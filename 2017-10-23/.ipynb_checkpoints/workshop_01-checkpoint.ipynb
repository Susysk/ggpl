{
 "cells": [
  {
   "cell_type": "markdown",
   "metadata": {},
   "source": [
    "Little table\n",
    "---------"
   ]
  },
  {
   "cell_type": "code",
<<<<<<< HEAD:2017-10-23/.ipynb_checkpoints/workshop_01-checkpoint.ipynb
   "execution_count": 3,
=======
<<<<<<< HEAD
   "execution_count": 3,
=======
   "execution_count": 1,
>>>>>>> 9523475f2bf6b41bcb2dd1376357362de7cbed5a
>>>>>>> f7b6660c87891d5a2a964ba92b73edd67c90ae6e:2017-10-23/workshop_1.ipynb
   "metadata": {
    "scrolled": false
   },
   "outputs": [
    {
     "name": "stdout",
     "output_type": "stream",
     "text": [
      "Evaluating fenvs.py..\n",
      "...fenvs.py imported in 0.008269 seconds\n"
     ]
    }
   ],
   "source": [
    "from larlib import *"
   ]
  },
  {
<<<<<<< HEAD:2017-10-23/.ipynb_checkpoints/workshop_01-checkpoint.ipynb
=======
<<<<<<< HEAD
>>>>>>> f7b6660c87891d5a2a964ba92b73edd67c90ae6e:2017-10-23/workshop_1.ipynb
   "cell_type": "code",
   "execution_count": null,
   "metadata": {
    "collapsed": true
   },
   "outputs": [],
<<<<<<< HEAD:2017-10-23/.ipynb_checkpoints/workshop_01-checkpoint.ipynb
=======
=======
   "cell_type": "markdown",
   "metadata": {},
>>>>>>> 9523475f2bf6b41bcb2dd1376357362de7cbed5a
>>>>>>> f7b6660c87891d5a2a964ba92b73edd67c90ae6e:2017-10-23/workshop_1.ipynb
   "source": [
    "DEF Leg = CUBOID:< 0.1,0.1,0.7 >; \n",
    "DEF Plane = CUBOID:< 1, 1, 0.2>;\n",
    "DEF Table = STRUCT:<Leg, T:1:0.9, Leg, T:2:0.9, Leg, T:1:-0.9, Leg, T:<2,3>:<-0.9,0.7>, Plane >;\n",
    "DEF Table1 = STRUCT:<Leg, T:1:0.9:Leg, T:<1,2>:<0.9,0.9>:Leg, T:2:0.9:Leg, T:3:0.7:Plane >;"
   ]
  },
  {
   "cell_type": "code",
   "execution_count": 51,
   "metadata": {
    "collapsed": true
   },
   "outputs": [],
   "source": [
    "#creating a table using 2 function:\n",
    "# leg creates 4 cubes for the legs and plane create a cube as the top of the table.\n",
    "def leg():\n",
    "    return CUBOID([0.1,0.1,0.7])\n",
    " \n",
    "def plane():\n",
    "    return CUBOID([1,1,0.2])\n",
    " \n",
    "def table1():\n",
    "    return STRUCT([leg(),T(1)(0.9)(leg()),T([1,2])([0.9,0.9])(leg()),T(2)(0.9)(leg()),T(3)(0.7)(plane())])"
   ]
  },
  {
   "cell_type": "code",
   "execution_count": null,
   "metadata": {
    "collapsed": true
   },
   "outputs": [],
   "source": [
    "VIEW(table1())"
   ]
  },
  {
   "cell_type": "markdown",
   "metadata": {
    "collapsed": true
   },
   "source": [
    "![Table](Table1.png)"
   ]
  },
  {
   "cell_type": "markdown",
   "metadata": {},
   "source": [
    "Facade\n",
    "====="
   ]
  },
  {
<<<<<<< HEAD:2017-10-23/.ipynb_checkpoints/workshop_01-checkpoint.ipynb
=======
<<<<<<< HEAD
>>>>>>> f7b6660c87891d5a2a964ba92b73edd67c90ae6e:2017-10-23/workshop_1.ipynb
   "cell_type": "code",
   "execution_count": null,
   "metadata": {
    "collapsed": true
   },
   "outputs": [],
<<<<<<< HEAD:2017-10-23/.ipynb_checkpoints/workshop_01-checkpoint.ipynb
=======
=======
   "cell_type": "markdown",
   "metadata": {},
>>>>>>> 9523475f2bf6b41bcb2dd1376357362de7cbed5a
>>>>>>> f7b6660c87891d5a2a964ba92b73edd67c90ae6e:2017-10-23/workshop_1.ipynb
   "source": [
    "DEF facade (n,m::IsIntPos) = STRUCT:< Q:xRithm * Q:yRithm,\n",
    "Q:xVoid * Q:yRithm,\n",
    "Q:xRithm * Q:yVoid ,\n",
    "@1:(Q:xVoid * Q:yVoid) > WHERE\n",
    "xRithm = ##:n:<5,-2,-5,-2> AR 5, yRithm = ##:m:<7,-5,-2> AR 7, \n",
    "xVoid = AA:-:xRithm,\n",
    "yVoid = AA:-:yRithm\n",
    "END;"
   ]
  },
  {
   "cell_type": "code",
   "execution_count": 34,
   "metadata": {
    "collapsed": true
   },
   "outputs": [],
   "source": [
    "#creating the faced of a building using:\n",
    "# rithm creates a list n times(width /heigh of the building)\n",
    "#append adds a value at the end of the list\n",
    "#prod is carthesian product\n",
    "#quote transforms non-empty sequences of non-zero reals into 1D polyhedra\n",
    "def facade(n,m):\n",
    "    xRithm=[5,-2,-5,-2]*n\n",
    "    yRithm=[7,-5,-2]*m\n",
    "    xRithm.append(7)\n",
    "    yRithm.append(5)\n",
    "    xVoid=[-x for x in xRithm]\n",
    "    yVoid=[-x for x in yRithm]\n",
    "    arg1 = PROD([QUOTE(xRithm),QUOTE(yRithm)])\n",
    "    arg2 = PROD([QUOTE(xVoid),QUOTE(yRithm)])\n",
    "    arg3 =PROD([QUOTE(xRithm),QUOTE(yVoid)])\n",
    "    arg4 = SKEL_1(PROD([QUOTE(xVoid),QUOTE(yVoid)]))\n",
    "    return STRUCT([arg1,arg2,arg3,arg4])"
   ]
  },
  {
   "cell_type": "code",
   "execution_count": 35,
   "metadata": {},
   "outputs": [
    {
     "data": {
      "text/plain": [
       "<pyplasm.xgepy.Hpc; proxy of <Swig Object of type 'std::shared_ptr< Hpc > *' at 0x182313e270> >"
      ]
     },
     "execution_count": 35,
     "metadata": {},
     "output_type": "execute_result"
    }
   ],
   "source": [
    "VIEW(facade(6,4))"
   ]
  },
  {
   "cell_type": "markdown",
   "metadata": {},
   "source": [
    "![Facade](Facade.png)"
   ]
  },
  {
   "cell_type": "markdown",
   "metadata": {},
   "source": [
    "Manhattan 2D\n",
    "========"
   ]
  },
  {
<<<<<<< HEAD:2017-10-23/.ipynb_checkpoints/workshop_01-checkpoint.ipynb
   "cell_type": "code",
   "execution_count": null,
=======
<<<<<<< HEAD
   "cell_type": "code",
   "execution_count": null,
=======
   "cell_type": "markdown",
>>>>>>> 9523475f2bf6b41bcb2dd1376357362de7cbed5a
>>>>>>> f7b6660c87891d5a2a964ba92b73edd67c90ae6e:2017-10-23/workshop_1.ipynb
   "metadata": {
    "collapsed": true
   },
   "outputs": [],
   "source": [
    "DEF Manhattan2D = MKPOL:< verts, cells, pols > WHERE\n",
    "verts = < <0,0>,<3,0>,<5,0>,<7,0>,<8,0>,<9.5,1>,<10,1.5>,<0,3>,<3,3>,<5,3>, <7,3>,<8,3>,<9.5,3>,<0,4>,<3,4>,<5,4>,<9.5,4>,<12,4>,<9.5,5>,<10,5>, <12,5>,<0,6>,<3,6>,<5,6>,<0,7>,<3,7>,<5,7>,<9.5,7>,<12,7>,<9.5,8>, <12,8>,<0,9>,<3,9>,<5,9>,<8,9>,<9,9>,<12,9>,<0,10>,<3,10>,<5,10>, <8,10>,<9,10>,<9.5,10>,<10,10>,<12,10>,<6,11>,<7,11>,<0,12>,<3,12>,<9,12>, <9.5,12>,<0,13>,<3,13>,<6,13>,<7,13>,<9,13>,<9.5,13>,<0,14>,<3,14>,<5,14>, <8,14>,<9,14>,<9.5,14>,<10,14>,<12,14>,<0,15>,<3,15>,<5,15>,<8,15>,<0,16>, <6,16>,<7,16>,<9,17>,<9.5,17>,<10,17>,<12,17>,<6,18>,<7,18>,<9,18>,<9.5,18>, <10,18>,<12,18>,<2,19>,<3,19>,<5,19>,<8,19>,<9,19>,<9.5,19>,<10,19>,<12,19>, <5,20>,<12,20>,<7,22>,<10,22>,<9,6>,<12,6>,<9,15>,<9.5,15>,<10,15>,<12,15> >,\n",
    "cells = < <1,2,9,8>,<3,4,11,10>,<5,6,13,12>,<14,15,23,22>, <16,17,19,24>, <7,18,21,20>,<25,26,33,32>,<27,95,28,35,34>,<95,96,29,28>, <30,31,37,36>, <38,39,49,48>,<40,41,47,46>,<41,61,55,47>,<55,61,60,54>, <54,60,40,46>, <42,43,51,50>,<44,45,65,64>,<52,53,59,58>,<56,57,63,62>, <66,67,84,83,70>, <68,69,72,71>,<69,86,78,72>,<78,86,85,77>,<71,77,85,68>, <97,98,74,73>, <99,100,76,75>,<79,80,88,87>,<81,82,90,89>, <91,92,94,93> >,\n",
    "pols = AA:LIST:(1..29) END;"
   ]
  },
  {
   "cell_type": "code",
   "execution_count": 5,
   "metadata": {
    "collapsed": true
   },
   "outputs": [],
   "source": [
    "#creating the map of the Manhattan's skyline using:\n",
    "#MKPOL that is a mapping from triples of number sequences to polyhedral complexes \n",
    "def Manhattan2D():\n",
    "    verts = [[0, 0], [3, 0], [5, 0], [7, 0], [8, 0], [9.5, 1], [10, 1.5], [0, 3], [3, 3], [5, 3], [7, 3], [8, 3],\n",
    "             [9.5, 3], [0, 4], [3, 4], [5, 4], [9.5, 4], [12, 4], [9.5, 5], [10, 5], [12, 5], [0, 6], [3, 6], [5, 6],\n",
    "             [0, 7], [3, 7], [5, 7], [9.5, 7], [12, 7], [9.5, 8], [12, 8], [0, 9], [3, 9], [5, 9], [8, 9], [9, 9],\n",
    "             [12, 9], [0, 10], [3, 10], [5, 10], [8, 10], [9, 10], [9.5, 10], [10, 10], [12, 10], [6, 11], [7, 11],\n",
    "             [0, 12], [3, 12], [9, 12], [9.5, 12], [0, 13], [3, 13], [6, 13], [7, 13], [9, 13], [9.5, 13], [0, 14],\n",
    "             [3, 14], [5, 14], [8, 14], [9, 14], [9.5, 14], [10, 14], [12, 14], [0, 15], [3, 15], [5, 15], [8, 15],\n",
    "             [0, 16], [6, 16], [7, 16], [9, 17], [9.5, 17], [10, 17], [12, 17], [6, 18], [7, 18], [9, 18], [9.5, 18],\n",
    "             [10, 18], [12, 18], [2, 19], [3, 19], [5, 19], [8, 19], [9, 19], [9.5, 19], [10, 19], [12, 19], [5, 20],\n",
    "             [12, 20], [7, 22], [10, 22], [9, 6], [12, 6], [9, 15], [9.5, 15], [10, 15], [12, 15]]\n",
    "\n",
    "    cells = [[1, 2, 9, 8], [3, 4, 11, 10], [5, 6, 13, 12], [14, 15, 23, 22], [16, 17, 19, 24], [7, 18, 21, 20],\n",
    "             [25, 26, 33, 32], [27, 95, 28, 35, 34], [95, 96, 29, 28], [30, 31, 37, 36], [38, 39, 49, 48],\n",
    "             [40, 41, 47, 46], [41, 61, 55, 47], [55, 61, 60, 54], [54, 60, 40, 46], [42, 43, 51, 50], [44, 45, 65, 64],\n",
    "             [52, 53, 59, 58], [56, 57, 63, 62], [66, 67, 84, 83, 70], [68, 69, 72, 71], [69, 86, 78, 72],\n",
    "             [78, 86, 85, 77], [71, 77, 85, 68], [97, 98, 74, 73], [99, 100, 76, 75], [79, 80, 88, 87],\n",
    "             [81, 82, 90, 89], [91, 92, 94, 93]]\n",
    "\n",
    "    pols = range(1, 27)\n",
    "\n",
    "    return MKPOL([verts, cells, AA(LIST)(pols)])"
   ]
  },
  {
   "cell_type": "code",
   "execution_count": 8,
   "metadata": {},
   "outputs": [
    {
     "data": {
      "text/plain": [
       "<pyplasm.xgepy.Hpc; proxy of <Swig Object of type 'std::shared_ptr< Hpc > *' at 0x181e5162a0> >"
      ]
     },
     "execution_count": 8,
     "metadata": {},
     "output_type": "execute_result"
    }
   ],
   "source": [
    "VIEW(Manhattan2D())"
   ]
  },
  {
   "cell_type": "markdown",
   "metadata": {},
   "source": [
    "![Manhattan 2D](Manhattan2D.png)"
   ]
  },
  {
   "cell_type": "markdown",
   "metadata": {},
   "source": [
    "Table and Chairs\n",
    "================"
   ]
  },
  {
<<<<<<< HEAD:2017-10-23/.ipynb_checkpoints/workshop_01-checkpoint.ipynb
   "cell_type": "code",
   "execution_count": null,
=======
<<<<<<< HEAD
   "cell_type": "code",
   "execution_count": null,
=======
   "cell_type": "markdown",
>>>>>>> 9523475f2bf6b41bcb2dd1376357362de7cbed5a
>>>>>>> f7b6660c87891d5a2a964ba92b73edd67c90ae6e:2017-10-23/workshop_1.ipynb
   "metadata": {
    "collapsed": true
   },
   "outputs": [],
   "source": [
    "DEF legs = Q:< 0.1,-0.8,0.1 > * Q:< 0.1,-0.8,0.1 > * Q:0.7; DEF plane = Q:1 * Q:1 * Q:0.2;\n",
    "DEF table = Legs TOP Plane;\n",
    "DEF chair = S:<1,2,3>:<0.4,0.4,0.5>:Table;\n",
    "DEF assembly = chair RIGHT table RIGHT chair UP chair DOWN chair VRML:assembly:′out.wrl′"
   ]
  },
  {
   "cell_type": "code",
   "execution_count": null,
   "metadata": {
    "collapsed": true
   },
   "outputs": [],
   "source": [
    "#creating a table and 4 chairs using:\n",
    "#assembly puts the chairs around the table\n",
    "from larlib import *\n",
    "def legs():\n",
    "    a = PROD([QUOTE([0.1,-0.8,0.1]),QUOTE([0.1,-0.8,0.1])])\n",
    "    return (PROD([a,QUOTE([0.7])]));\n",
    "\n",
    "def plane():\n",
    "    b = PROD([PROD([QUOTE([1]),QUOTE([1])]),QUOTE([0.2])])\n",
    "    return b;\n",
    "\n",
    "def table():\n",
    "    return (TOP([legs(),plane()]));\n",
    "\n",
    "def chair():\n",
    "    return(S([1,2,3])([0.4,0.4,0.5])(table()));\n",
    "\n",
    "def assembly():\n",
    "    DX = RIGHT([table(),T(2)(0.3)(chair())])\n",
    "    DX = RIGHT([T(2)(0.3)(chair()),DX])\n",
    "    SUP = UP([DX,T(1)(0.7)(chair())])\n",
    "    DO = DOWN([SUP,T(1)(0.7)(chair())])\n",
    "    assembly = DO\n",
    "    return assembly;\n",
    "VIEW(assembly())"
   ]
  },
  {
   "cell_type": "code",
   "execution_count": null,
   "metadata": {
    "collapsed": true
   },
   "outputs": [],
   "source": [
    "VIEW(assembly())"
   ]
  },
  {
   "cell_type": "markdown",
   "metadata": {},
   "source": [
    "![Table and chairs](tableandchairs.png)"
   ]
  },
  {
   "cell_type": "markdown",
   "metadata": {},
   "source": [
    "Manhattan 3D\n",
    "============"
   ]
  },
  {
<<<<<<< HEAD:2017-10-23/.ipynb_checkpoints/workshop_01-checkpoint.ipynb
=======
<<<<<<< HEAD
>>>>>>> f7b6660c87891d5a2a964ba92b73edd67c90ae6e:2017-10-23/workshop_1.ipynb
   "cell_type": "code",
   "execution_count": null,
   "metadata": {
    "collapsed": true
   },
   "outputs": [],
<<<<<<< HEAD:2017-10-23/.ipynb_checkpoints/workshop_01-checkpoint.ipynb
=======
=======
   "cell_type": "markdown",
   "metadata": {},
>>>>>>> 9523475f2bf6b41bcb2dd1376357362de7cbed5a
>>>>>>> f7b6660c87891d5a2a964ba92b73edd67c90ae6e:2017-10-23/workshop_1.ipynb
   "source": [
    "\n",
    "DEF MultExtrude (p::IsPol) (h::IsSeqOf:IsReal) = (STRUCT ∼ AA:* ∼ TRANS):< ThePolSeq, AA:Q:h >\n",
    "WHERE\n",
    "ThePolSeq = (REVERSE ∼ AA:MKPOL ∼ AA:CAT ∼ DISTR):\n",
    "< DISTL:< MyVerts, MyCells >, <<<1>>> >, MyVerts = (S1 ∼ UKPOL):P,\n",
    "MyCells = (AA:LIST ∼ S2 ∼ UKPOL):P\n",
    "END;\n",
    "DEF GrowingH = 1..29;\n",
    "DEF ManhattanH = <1,3,1,11,1,0.2,1,0.1,1,8,15,1,\n",
    "1,1,1,8,1,15,8,1,2,2,2,2,5,9,1,1,1>;"
   ]
  },
  {
   "cell_type": "code",
   "execution_count": 3,
   "metadata": {
    "collapsed": true
   },
   "outputs": [],
   "source": [
    "#creating a 3d version of the Manhattan's skyline using:\n",
    "#comps create a composition of different functions\n",
    "def multi_extrude(p, h):\n",
    "    MyCells = COMP([AA(LIST), S2, UKPOL])(p)\n",
    "    MyVerts = COMP([S1, UKPOL])(p)\n",
    "    ThePolSeq = COMP([REVERSE, AA(MKPOL), AA(CAT), DISTR])([DISTL([MyVerts, MyCells]), [[[1]]]])\n",
    "    return COMP([STRUCT, AA(PROD), TRANS])([ThePolSeq, AA(Q)(h)])\n",
    "GrowingH = range(1, 29)"
   ]
  },
  {
   "cell_type": "code",
   "execution_count": null,
   "metadata": {
    "collapsed": true
   },
   "outputs": [],
   "source": [
    "VIEW(multi_extrude(Manhattan2D(),GrowingH))"
   ]
  },
  {
   "cell_type": "markdown",
   "metadata": {},
   "source": [
    "![Manhattan 2D](Manhattan3D.png)"
   ]
  },
  {
   "cell_type": "markdown",
   "metadata": {},
   "source": [
    "Colored cubes\n",
    "============="
   ]
  },
  {
   "cell_type": "code",
   "execution_count": null,
   "metadata": {
    "collapsed": true
   },
   "outputs": [],
   "source": [
    "(plasm \"\n",
    "DEF cube = CUBOID:<1,1,1>;\n",
    "DEF cube1 = cube COLOR CYAN;\n",
    "DEF cube2 = cube COLOR MAGENTA;\n",
    "DEF cube3 = cube COLOR YELLOW;\n",
    "DEF basis = (EMBED:1 ∼ CUBOID):<3,3>; DEF assembly = cube1 TOP cube2 TOP cube3;\n",
    "DEF out = basis TOP assembly; \")\n"
   ]
  },
  {
   "cell_type": "code",
   "execution_count": 2,
   "metadata": {
    "collapsed": true
   },
   "outputs": [],
   "source": [
    "#creating 3 colored cubes using:\n",
    "#CUBOID creates a unitary cube\n",
    "#assembly() use TOP for putting a cube in top of another twice\n",
    "def cube():\n",
    "    return(CUBOID([1,1,1]))\n",
    " \n",
    "def cube1():\n",
    "    return(COLOR([0,255,255])(cube()))\n",
    " \n",
    "def cube2():\n",
    "    return(COLOR([255,0,255])(cube()))\n",
    " \n",
    "def cube3():\n",
    "    return(COLOR([255,255,0])(cube()))\n",
    " \n",
    "def basis():\n",
    "    return COMP([EMBED(1), CUBOID])([3,3])\n",
    " \n",
    "def assembly():\n",
    "    return (TOP([cube3(),TOP([cube2(),cube1()])]))\n",
    " \n",
    "def out():\n",
    "    return (TOP([basis(), assembly()]))"
   ]
  },
  {
   "cell_type": "code",
   "execution_count": 4,
   "metadata": {},
   "outputs": [
    {
     "data": {
      "text/plain": [
       "<pyplasm.xgepy.Hpc; proxy of <Swig Object of type 'std::shared_ptr< Hpc > *' at 0x18152f8fc0> >"
      ]
     },
     "execution_count": 4,
     "metadata": {},
     "output_type": "execute_result"
    }
   ],
   "source": [
    "VIEW(out())"
   ]
  },
  {
   "cell_type": "markdown",
   "metadata": {},
   "source": [
    "![colored_cubes](colored_cubes.png)"
   ]
  },
  {
   "cell_type": "code",
   "execution_count": null,
   "metadata": {
    "collapsed": true
   },
   "outputs": [],
   "source": []
  }
 ],
 "metadata": {
  "kernelspec": {
   "display_name": "Python 2",
   "language": "python",
   "name": "python2"
  },
  "language_info": {
   "codemirror_mode": {
    "name": "ipython",
    "version": 2
   },
   "file_extension": ".py",
   "mimetype": "text/x-python",
   "name": "python",
   "nbconvert_exporter": "python",
   "pygments_lexer": "ipython2",
   "version": "2.7.13"
  }
 },
 "nbformat": 4,
 "nbformat_minor": 2
}
