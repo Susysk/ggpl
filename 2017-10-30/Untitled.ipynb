{
 "cells": [
  {
   "cell_type": "code",
   "execution_count": 1,
   "metadata": {},
   "outputs": [
    {
     "name": "stdout",
     "output_type": "stream",
     "text": [
      "Evaluating fenvs.py..\n",
      "...fenvs.py imported in 0.005591 seconds\n"
     ]
    }
   ],
   "source": [
    "from larlib import *\n",
    "from pyplasm import *"
   ]
  },
  {
   "cell_type": "code",
   "execution_count": null,
   "metadata": {},
   "outputs": [],
   "source": [
    "def base():\n",
    "    maggiore =CYLINDER([20, 1])(64)\n",
    "    intermedio=CYLINDER([19, 1.3])(64)\n",
    "    scaffali = [.30,-300]*1\n",
    "    piani1 = PROD([QUOTE([25]), QUOTE(scaffali)])\n",
    "    piani2 = PROD([QUOTE([25]), piani1])\n",
    "    return STRUCT([maggiore,intermedio,piani2])\n",
    "def SPHEREEEEEE (radius):\n",
    "\tdef GSPHERE0 (subds):\n",
    "\t\tN , M = subds\n",
    "\t\tdomain = Hpc(Grid([N*[PI/N],M*[PI/M]]))\n",
    "\t\tdomain = MAT([[1,0,0,0],[-PI/2,1,0,0],[-PI,0,1,0],[0,0,0,1]])(domain)\n",
    "\t\tfx  = lambda p: radius * math.cos(p[0]) * math.sin  (p[1])\n",
    "\t\tfy  = lambda p: radius * math.cos(p[0]) * math.cos (p[1])\n",
    "\t\tfz  = lambda p: radius * math.sin(p[0])\n",
    "\t\tret=  GMAP([fx, fy, fz])(domain)\n",
    "\t\treturn ret\n",
    "\treturn GSPHERE0\n",
    "def incavo():\n",
    "    cilindretto=T([1,3])([16,2])(CUBOID([2,3,12]))\n",
    "    sferetta =(T([1,2,3])([16,1.5,14.5])(R([1,3])(-PI/2)(SPHEREEEEEE(2.4)([50,42]))))\n",
    "    return (STRUCT([JOIN([sferetta,cilindretto])]))\n",
    "\n",
    "VIEW(STRUCT([base()]))\n"
   ]
  },
  {
   "cell_type": "code",
   "execution_count": null,
   "metadata": {
    "collapsed": true
   },
   "outputs": [],
   "source": []
  }
 ],
 "metadata": {
  "kernelspec": {
   "display_name": "Python 2",
   "language": "python",
   "name": "python2"
  },
  "language_info": {
   "codemirror_mode": {
    "name": "ipython",
    "version": 2
   },
   "file_extension": ".py",
   "mimetype": "text/x-python",
   "name": "python",
   "nbconvert_exporter": "python",
   "pygments_lexer": "ipython2",
   "version": "2.7.13"
  }
 },
 "nbformat": 4,
 "nbformat_minor": 2
}
