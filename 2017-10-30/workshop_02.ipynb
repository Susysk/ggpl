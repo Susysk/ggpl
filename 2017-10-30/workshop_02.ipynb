{
 "cells": [
  {
   "cell_type": "code",
   "execution_count": 1,
   "metadata": {},
   "outputs": [
    {
     "name": "stdout",
     "output_type": "stream",
     "text": [
      "Evaluating fenvs.py..\n",
      "...fenvs.py imported in 0.006474 seconds\n"
     ]
    }
   ],
   "source": [
    "from larlib import *\n",
    "from pyplasm import *"
   ]
  },
  {
   "cell_type": "markdown",
   "metadata": {},
   "source": [
    "Scarpiera Sandy\n",
    "=============="
   ]
  },
  {
   "cell_type": "code",
   "execution_count": null,
   "metadata": {
    "collapsed": true
   },
   "outputs": [],
   "source": [
    "##work inspired by Ikea's scarpiera sandy. \n",
    "#All the part of the shoe rack are created with carthesian product"
   ]
  },
  {
   "cell_type": "code",
   "execution_count": null,
   "metadata": {},
   "outputs": [],
   "source": [
    "def maniglia():\n",
    "    scaffali = [.1,-1]*2\n",
    "    piani1 = PROD([QUOTE([.9]), QUOTE(scaffali)])\n",
    "    piani2 = PROD([QUOTE([.1]), piani1])\n",
    "    return T([1,2,3])([.9,.5,1.3])(COLOR([.8,0.8,.8])(piani2))\n",
    "def scaffaliMobile():\n",
    "    scaffali = [.1,-1]*4\n",
    "    piani1 = PROD([QUOTE([2]), QUOTE(scaffali)])\n",
    "    piani2 = PROD([QUOTE([1]), piani1])\n",
    "    return(piani2);\n",
    "def paretiMobile():\n",
    "    colonne1 = PROD([QUOTE([1]), QUOTE([0.05,0.05,0.05])])\n",
    "    colonne2 = PROD([colonne1, QUOTE([3.4])]) \n",
    "    pareteDietro = R([1,2])(PI/2)(T(2)(-0.15)(PROD([PROD([QUOTE([1.85]), QUOTE([0.05,0.05,0.05])]), QUOTE([3.4])])))\n",
    "    return (STRUCT([colonne2,T(2)(1.85)(colonne2),pareteDietro]));\n",
    "def mobile():\n",
    "    return STRUCT([T(3)(0.2)(STRUCT([scaffaliMobile(),paretiMobile()]))]);\n",
    "def riempimento():\n",
    "    scaffali = [2.4,-2.4]\n",
    "    piani1 = PROD([QUOTE([2]), QUOTE(scaffali)])\n",
    "    piani2 = PROD([QUOTE([.1]), piani1])\n",
    "    return piani2;\n",
    "def book():\n",
    "    scaffali = [.08,-.01]*6\n",
    "    piani1 = PROD([QUOTE([0.8]), QUOTE(scaffali)])\n",
    "    piani2 = PROD([QUOTE([.2]), piani1])\n",
    "    return  COLOR([0.6,0.4,0.2])(R([2,3])(PI/1.8)(T([1,2,3])([0.6,2.3,-1.69])(piani2)))\n",
    "def book2():\n",
    "    scaffali = [.08,-.01]*6\n",
    "    piani1 = PROD([QUOTE([1]), QUOTE(scaffali)])\n",
    "    piani2 = PROD([QUOTE([.2]), piani1])\n",
    "    return  COLOR([0.6,0.2,0.2])(R([2,3])(PI/2)(T([1,2,3])([0.6,2.3,-0.6])(piani2)))\n",
    "def scarpiera():\n",
    "    return STRUCT([(T([1,2,3])([0.9,0.01,0.2])(riempimento())),mobile(),maniglia(),book(), book2()])\n",
    "VIEW(scarpiera())"
   ]
  },
  {
   "cell_type": "markdown",
   "metadata": {},
   "source": [
    "![Sandy](Sandy.png)"
   ]
  },
  {
   "cell_type": "markdown",
   "metadata": {},
   "source": [
    "Besta inspired\n",
    "=============="
   ]
  },
  {
   "cell_type": "markdown",
   "metadata": {},
   "source": [
    "![Besta](Besta.png)"
   ]
  },
  {
   "cell_type": "code",
   "execution_count": null,
   "metadata": {},
   "outputs": [],
   "source": [
    "def scaffaliMobileSotto(): #profondità\n",
    "    colonne1 = PROD([QUOTE([1.5]), QUOTE([0.05,5,0.05])]) #larghezza\n",
    "    colonne2 = PROD([colonne1, QUOTE([2])]) #altezza\n",
    "    pareteDietro = R([1,2])(PI/2)(T(2)(-0.15)(PROD([PROD([QUOTE([5]), QUOTE([0.05,0.05,0.05])]), QUOTE([2])])))\n",
    "    return (STRUCT([colonne2,T(2)(5)(colonne2),pareteDietro]));\n",
    "def scaffaliMobile():\n",
    "    scaffali = [.1,-1]*7\n",
    "    piani1 = PROD([QUOTE([2]), QUOTE(scaffali)])\n",
    "    piani2 = PROD([QUOTE([1.5]), piani1])\n",
    "    return(piani2);\n",
    "def paretiMobile():\n",
    "    colonne1 = PROD([QUOTE([1.5]), QUOTE([0.05,0.05,0.05])])\n",
    "    colonne2 = PROD([colonne1, QUOTE([6.6])]) \n",
    "    pareteDietro = R([1,2])(PI/2)(T(2)(-0.15)(PROD([PROD([QUOTE([1.85]), QUOTE([0.05,0.05,0.05])]), QUOTE([6.6])])))\n",
    "    return (STRUCT([colonne2,T(2)(1.85)(colonne2),pareteDietro]));\n",
    "def mobile():\n",
    "    return STRUCT([T(3)(0.2)(STRUCT([scaffaliMobile(),paretiMobile()]))]);\n",
    "def laterale():\n",
    "    scaffali = [2.7,-.000]*3\n",
    "    piani1 = PROD([QUOTE([1.8]), QUOTE(scaffali)])\n",
    "    piani2 = PROD([QUOTE([1.5]), piani1])\n",
    "    return  (R([2,3])(PI/2)(T([1,2,3])([0,5.8,-10.1])(piani2)))\n",
    "def schermo():\n",
    "    return T([1,2,3])([0,2,0])(CUBOID([.2,4,2.5]));\n",
    "def base():\n",
    "    return T([2,3])([3.5,-.4])(CUBOID([0,0.8,0.4]));\n",
    "def base2():\n",
    "    return T([1,2,3])([-0.25,3.3,-.4])(CUBOID([0.5,1.2,0]))\n",
    "def tv():\n",
    "    return STRUCT([schermo(),base(),base2()])\n",
    "def tv2():\n",
    "    return (T([1,2,3])([1,.2,2.5])(tv()))\n",
    "def besta():\n",
    "    return (COLOR([.1,.1,.1])(STRUCT([scaffaliMobileSotto(),T(3)(.7)(mobile()),laterale(),tv2()])))\n",
    "VIEW(besta())"
   ]
  },
  {
   "cell_type": "markdown",
   "metadata": {},
   "source": [
    "HEMNES\n",
    "======"
   ]
  },
  {
   "cell_type": "code",
   "execution_count": null,
   "metadata": {
    "collapsed": true
   },
   "outputs": [],
   "source": [
    "def scaffaliMobile():\n",
    "    scaffali = [.1,-5]*2\n",
    "    piani1 = PROD([QUOTE([1]), QUOTE(scaffali)])\n",
    "    piani2 = PROD([QUOTE([1]), piani1])\n",
    "    return(piani2);\n",
    "def paretiMobile():\n",
    "    colonne1 = PROD([QUOTE([1]), QUOTE([0.01,0.01,0.05])])\n",
    "    colonne2 = PROD([colonne1, QUOTE([5.1])]) \n",
    "    pareteDietro = R([1,2])(PI/2)(T(2)(-0.15)(PROD([PROD([QUOTE([1]), QUOTE([0.05,0.05,0.05])]), QUOTE([5.2])])))\n",
    "    return (STRUCT([colonne2,T(2)(.9)(colonne2),pareteDietro]));\n",
    "def mobile():\n",
    "    return STRUCT([(STRUCT([scaffaliMobile(),paretiMobile()]))]);\n",
    "def riempimento():\n",
    "    piani2 = COLOR([.78,.78,.78])(CUBOID([1,.9,5.1]))\n",
    "    return piani2;\n",
    "def piedi():\n",
    "    piede1 = PROD([QUOTE([.2]), QUOTE([0.01,0.01,0.05])])\n",
    "    piede2 = PROD([piede1, QUOTE([.1])]) \n",
    "    return((STRUCT([piede2,T(2)(.6)(piede2)])))\n",
    "def maniglia():\n",
    "    piani2 = COLOR(WHITE)(CUBOID([.1,.3,.1]))\n",
    "    return piani2;\n",
    "VIEW(STRUCT([riempimento(), mobile(),T([1,2,3])([.5,.2,-.19])(piedi()),T([1,2,3])([1,.5,3])(maniglia())]))"
   ]
  },
  {
   "cell_type": "markdown",
   "metadata": {},
   "source": [
    "![Hemnes](Hemnes.png)"
   ]
  },
  {
   "cell_type": "code",
   "execution_count": null,
   "metadata": {
    "collapsed": true
   },
   "outputs": [],
   "source": []
  }
 ],
 "metadata": {
  "kernelspec": {
   "display_name": "Python 2",
   "language": "python",
   "name": "python2"
  },
  "language_info": {
   "codemirror_mode": {
    "name": "ipython",
    "version": 2
   },
   "file_extension": ".py",
   "mimetype": "text/x-python",
   "name": "python",
   "nbconvert_exporter": "python",
   "pygments_lexer": "ipython2",
   "version": "2.7.13"
  }
 },
 "nbformat": 4,
 "nbformat_minor": 2
}
