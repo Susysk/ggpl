{
 "cells": [
  {
   "cell_type": "code",
   "execution_count": 2,
   "metadata": {},
   "outputs": [
    {
     "name": "stdout",
     "output_type": "stream",
     "text": [
      "Evaluating fenvs.py..\n",
      "...fenvs.py imported in 0.008493 seconds\n"
     ]
    },
    {
     "data": {
      "text/plain": [
       "<pyplasm.xgepy.Hpc; proxy of <Swig Object of type 'std::shared_ptr< Hpc > *' at 0x18152667b0> >"
      ]
     },
     "execution_count": 2,
     "metadata": {},
     "output_type": "execute_result"
    }
   ],
   "source": [
    "from larlib import *\n",
    "#COMP-> compisizione, compone le funzioni. Prende funzioni come argomento e restituisce funzioni+\n",
    "#T -> ruota l'oggetto lungo l'asse x e y (1,2)\n",
    "#SONO 2 modi alternativi di scrivere\n",
    "#NN -> crea una lista a cui applica traslazione e rotazione, ogni volta viene un mattoncino viene ruotato.\n",
    "#NN-> ripete tot volte le operazioni\n",
    "element = COMP([T([1,2])([-5,-5]), CUBOID])([10,10,2]) #crea un cubo traslato\n",
    "element = T([1,2])([-5,-5])( CUBOID([10,10,2])) #prima traslo poi applico cubo\n",
    "column = STRUCT( NN(17)([element, T(3)(2), R([1,2])(PI/8)]) ) #ho un mattoncino, lo traslo, lo ruoto e ripeto il tutto\n",
    "column = STRUCT( CAT(N(17)([element, T(3)(2), R([1,2])(PI/8)])) )\n",
    "VIEW(column)"
   ]
  },
  {
   "cell_type": "code",
   "execution_count": 3,
   "metadata": {},
   "outputs": [
    {
     "data": {
      "text/plain": [
       "<pyplasm.xgepy.Hpc; proxy of <Swig Object of type 'std::shared_ptr< Hpc > *' at 0x102be9ab0> >"
      ]
     },
     "execution_count": 3,
     "metadata": {},
     "output_type": "execute_result"
    }
   ],
   "source": [
    "VIEW( ROTN([PI/4, [0,0,1]])(CUBE(1)) )"
   ]
  },
  {
   "cell_type": "code",
   "execution_count": null,
   "metadata": {},
   "outputs": [],
   "source": [
    " obj = PROD([ OFFSET([0.5,0.25])(TEXT(\"Hello World\")) , Q(3) ]) \n",
    "tensor = MAT ([[1 ,0 ,0 ,0] ,[0 ,1 ,0.5 ,0] ,[0 ,0 ,1 ,0] ,[0 ,0 ,0 ,1]]) \n",
    "VIEW(tensor(obj))"
   ]
  },
  {
   "cell_type": "code",
   "execution_count": null,
   "metadata": {
    "collapsed": true
   },
   "outputs": [],
   "source": []
  }
 ],
 "metadata": {
  "kernelspec": {
   "display_name": "Python 2",
   "language": "python",
   "name": "python2"
  },
  "language_info": {
   "codemirror_mode": {
    "name": "ipython",
    "version": 2
   },
   "file_extension": ".py",
   "mimetype": "text/x-python",
   "name": "python",
   "nbconvert_exporter": "python",
   "pygments_lexer": "ipython2",
   "version": "2.7.13"
  }
 },
 "nbformat": 4,
 "nbformat_minor": 2
}
