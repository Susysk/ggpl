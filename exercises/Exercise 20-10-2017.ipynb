{
 "cells": [
  {
   "cell_type": "code",
   "execution_count": 1,
   "metadata": {},
   "outputs": [
    {
     "name": "stdout",
     "output_type": "stream",
     "text": [
      "Evaluating fenvs.py..\n",
      "...fenvs.py imported in 0.00549 seconds\n"
     ]
    }
   ],
   "source": [
    "from larlib import *"
   ]
  },
  {
   "cell_type": "code",
   "execution_count": 2,
   "metadata": {},
   "outputs": [],
   "source": [
    "verts=[[0,0],[10,0],[10,10],[5,13],[0,10]] #array dei vertici in ordine a caso\n",
    "cells= [[1,2,3,4,5]]##array dell'indice dei suoi vertici, nomi dei vertici\n",
    "pols = None #le celle sono combinazione convessa dei vertici, gusci convessi dei vertici ma non in python\n",
    "wall = MKPOL([verts,cells,pols]) #make pols-> poliedtro"
   ]
  },
  {
   "cell_type": "code",
   "execution_count": 3,
   "metadata": {},
   "outputs": [
    {
     "data": {
      "text/plain": [
       "<pyplasm.xgepy.Hpc; proxy of <Swig Object of type 'std::shared_ptr< Hpc > *' at 0x1823f88270> >"
      ]
     },
     "execution_count": 3,
     "metadata": {},
     "output_type": "execute_result"
    }
   ],
   "source": [
    "wall #oggetto di tipo hpc dentro una classe "
   ]
  },
  {
   "cell_type": "code",
   "execution_count": 12,
   "metadata": {},
   "outputs": [
    {
     "data": {
      "text/plain": [
       "<pyplasm.xgepy.Hpc; proxy of <Swig Object of type 'std::shared_ptr< Hpc > *' at 0x1823f886f0> >"
      ]
     },
     "execution_count": 12,
     "metadata": {},
     "output_type": "execute_result"
    }
   ],
   "source": [
    "#T fa traslare sull'asse x(1) di quanto voglio(4) chi voglio(door). \n",
    "#Sulla prima e la seconda(x,y) voglio traslare la finestra di 7 e di 2 \n",
    "door=CUBOID([2,5]) #5 è altezza, li crea con un vertice nell'origine\n",
    "window=CUBOID([2,3])\n",
    "house= DIFFERENCE([wall,T(1)(4)(door),T([1,2])([7,2])(window)]) #aggregatore degli elementi\n",
    "VIEW(house) #difference mi fa vedere la differenza della sovrapposizione"
   ]
  },
  {
   "cell_type": "code",
   "execution_count": 16,
   "metadata": {},
   "outputs": [
    {
     "data": {
      "text/plain": [
       "<pyplasm.xgepy.Hpc; proxy of <Swig Object of type 'std::shared_ptr< Hpc > *' at 0x1823f88510> >"
      ]
     },
     "execution_count": 16,
     "metadata": {},
     "output_type": "execute_result"
    }
   ],
   "source": [
    "VIEW(STRUCT([house,S([1,2])([.5,.5])(house)]))"
   ]
  },
  {
   "cell_type": "code",
   "execution_count": 18,
   "metadata": {},
   "outputs": [
    {
     "data": {
      "text/plain": [
       "<pyplasm.xgepy.Hpc; proxy of <Swig Object of type 'std::shared_ptr< Hpc > *' at 0x1823f88600> >"
      ]
     },
     "execution_count": 18,
     "metadata": {},
     "output_type": "execute_result"
    }
   ],
   "source": [
    "house = T([1,2])([10,10])(house)\n",
    "VIEW(STRUCT([house,S([1,2])([.5,.5])(house)])) #traslare e cambiare le dimensioni"
   ]
  },
  {
   "cell_type": "code",
   "execution_count": 31,
   "metadata": {},
   "outputs": [
    {
     "data": {
      "text/plain": [
       "<pyplasm.xgepy.Hpc; proxy of <Swig Object of type 'std::shared_ptr< Hpc > *' at 0x1823fa8030> >"
      ]
     },
     "execution_count": 31,
     "metadata": {},
     "output_type": "execute_result"
    }
   ],
   "source": [
    "\n",
    "#voglio fare una riflessione dell'immagine (ribaltamento)rifletto all'asse con il - davanti\n",
    "house= DIFFERENCE([wall,T(1)(4)(door),T([1,2])([7,2])(window)])\n",
    "VIEW(STRUCT([house,S([1,2])([1,-1])(house)]))"
   ]
  },
  {
   "cell_type": "code",
   "execution_count": null,
   "metadata": {},
   "outputs": [],
   "source": [
    "#rotazione\n",
    "house = T([1,2])([10,10])(house)\n",
    "VIEW(STRUCT([house,R([1,3])(PI/6)(house)]))"
   ]
  },
  {
   "cell_type": "code",
   "execution_count": null,
   "metadata": {
    "collapsed": true
   },
   "outputs": [],
   "source": [
    "#shearing, scorrimento. Il piano è tipo un fascio di rette parallelo a un asse -> tutte le rette traslano su loro stesse\n",
    "#la traslazione di ogni retta è proporzionale alla distanza della retta da quella fissa\n",
    "\n",
    "\n",
    "\n"
   ]
  }
 ],
 "metadata": {
  "kernelspec": {
   "display_name": "Python 2",
   "language": "python",
   "name": "python2"
  },
  "language_info": {
   "codemirror_mode": {
    "name": "ipython",
    "version": 2
   },
   "file_extension": ".py",
   "mimetype": "text/x-python",
   "name": "python",
   "nbconvert_exporter": "python",
   "pygments_lexer": "ipython2",
   "version": "2.7.13"
  }
 },
 "nbformat": 4,
 "nbformat_minor": 2
}
