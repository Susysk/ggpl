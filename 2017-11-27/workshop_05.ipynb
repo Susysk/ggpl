{
 "cells": [
  {
   "cell_type": "markdown",
   "metadata": {},
   "source": [
    "Villa Gazzotti\n",
    "=============="
   ]
  },
  {
   "cell_type": "markdown",
   "metadata": {},
   "source": [
    "https://it.wikipedia.org/wiki/Villa_Gazzotti#/media/File:Villa_Gazzotti_pianta_Bertotti_Scamozzi_1778.jpg"
   ]
  },
  {
   "cell_type": "markdown",
   "metadata": {},
   "source": [
    "http://bicicletta.bonavoglia.eu/luoghi/villa.html?Sigla=GAZZ"
   ]
  },
  {
   "cell_type": "markdown",
   "metadata": {},
   "source": [
    "Foto della facciata\n",
    "=============="
   ]
  },
  {
   "cell_type": "markdown",
   "metadata": {},
   "source": [
    "![Facciata](facciata.png)"
   ]
  },
  {
   "cell_type": "markdown",
   "metadata": {},
   "source": [
    "Piantina della villa\n",
    "================"
   ]
  },
  {
   "cell_type": "markdown",
   "metadata": {},
   "source": [
    "![Piantina](piantina.png)"
   ]
  },
  {
   "cell_type": "markdown",
   "metadata": {},
   "source": [
    "Codice e screen\n",
    "==============="
   ]
  },
  {
   "cell_type": "code",
   "execution_count": 5,
   "metadata": {},
   "outputs": [
    {
     "name": "stdout",
     "output_type": "stream",
     "text": [
      "Evaluating fenvs.py..\n",
      "...fenvs.py imported in 0.010833 seconds\n"
     ]
    },
    {
     "data": {
      "text/plain": [
       "<pyplasm.xgepy.Hpc; proxy of <Swig Object of type 'std::shared_ptr< Hpc > *' at 0x1815e61d50> >"
      ]
     },
     "execution_count": 5,
     "metadata": {},
     "output_type": "execute_result"
    }
   ],
   "source": [
    "from larlib import *\n",
    "import math\n",
    "import csv\n",
    "with open(\"villagazzotti.lines\", \"rb\") as file:\n",
    "    file_reader = csv.reader(file, delimiter=\",\")\n",
    "    chiavi = {}\n",
    "    nodi = []\n",
    "    archi= []\n",
    "    i = 0\n",
    "    for righe in file_reader:\n",
    "        riga0 = math.floor(float(righe[0])*100)/100\n",
    "        riga1 = math.floor(float(righe[1])*100)/100\n",
    "        riga2 = math.floor(float(righe[2])*100)/100\n",
    "        riga3 = math.floor(float(righe[3])*100)/100\n",
    "       \n",
    "        if not(riga0,riga1) in chiavi.keys():\n",
    "            chiavi[(riga0,riga1)] = i\n",
    "            nodi.append((riga0,riga1))\n",
    "            i = i+1\n",
    "           \n",
    "        if not(riga2,riga3) in chiavi.keys():\n",
    "            chiavi[(riga2,riga3)] = i\n",
    "            nodi.append((riga2,riga3))\n",
    "            i = i+1\n",
    "        archi.append((chiavi[(riga0,riga1)],(chiavi[(riga2,riga3)])))\n",
    "       \n",
    "VIEW(STRUCT(MKPOLS([nodi,archi])))"
   ]
  },
  {
   "cell_type": "markdown",
   "metadata": {},
   "source": [
    "![Piantina](mappa_lines.png)"
   ]
  },
  {
   "cell_type": "code",
   "execution_count": null,
   "metadata": {
    "collapsed": true
   },
   "outputs": [],
   "source": []
  }
 ],
 "metadata": {
  "kernelspec": {
   "display_name": "Python 2",
   "language": "python",
   "name": "python2"
  },
  "language_info": {
   "codemirror_mode": {
    "name": "ipython",
    "version": 2
   },
   "file_extension": ".py",
   "mimetype": "text/x-python",
   "name": "python",
   "nbconvert_exporter": "python",
   "pygments_lexer": "ipython2",
   "version": "2.7.13"
  }
 },
 "nbformat": 4,
 "nbformat_minor": 2
}
