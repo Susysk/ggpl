{
 "cells": [
  {
   "cell_type": "code",
   "execution_count": 1,
   "metadata": {},
   "outputs": [
    {
     "name": "stdout",
     "output_type": "stream",
     "text": [
      "Evaluating fenvs.py..\n",
      "...fenvs.py imported in 0.007545 seconds\n"
     ]
    }
   ],
   "source": [
    "from larlib import *\n",
    "from pyplasm import *"
   ]
  },
  {
   "cell_type": "markdown",
   "metadata": {},
   "source": [
    "MY LEONARDO\n",
    "======="
   ]
  },
  {
   "cell_type": "code",
   "execution_count": null,
   "metadata": {},
   "outputs": [
    {
     "name": "stdout",
     "output_type": "stream",
     "text": [
      "Child 3\n",
      "Child 3\n",
      "Child 3\n"
     ]
    }
   ],
   "source": [
    "##ggpl_myLeonardo is a function that takes 3 parameters for changing curch's dimension (on the 3 dimensions x y z)\n",
    "def ggpl_myLeonardo(a,b,c):\n",
    "    def base():\n",
    "        maggiore =CYLINDER([20, 1])(64)\n",
    "        intermedio=CYLINDER([19, 1.3])(64)\n",
    "        return STRUCT([maggiore,intermedio])\n",
    "    def strutture():\n",
    "        minore=TOP([TOP([CYLINDER([8, 10.5])(64),(T([1,2,3])([16,1.5,14.5])(R([1,3])(-PI/2)(SEMISPHERE(8)([50,42]))))]),\n",
    "                   CUBOID([2,2,3])])\n",
    "        cilindretto=T([1,3])([16,0])(CYLINDER([4, 6])(64))\n",
    "        sferetta =(T([1,2,3])([16,1.5,14.5])(R([1,3])(-PI/2)(SEMISPHERE(4)([50,42]))))\n",
    "        insieme= STRUCT([TOP([cilindretto,sferetta])])\n",
    "        FirstColumnRing = (COMP([STRUCT, DOUBLE_DIESIS(8)]))([insieme, R([1, 2])((RAISE(DIV)([PI,3.5])))])\n",
    "        return STRUCT([minore,S([1,2,3])([0.9,0.9,0.9])(FirstColumnRing)])\n",
    "    def incavo():\n",
    "        minore=CYLINDER([18, 20])(64)\n",
    "        cilindretto=T([1,3])([16,2])(CUBOID([2,3,12]))\n",
    "        sferetta =(T([1,2,3])([16,1.5,14.5])(R([1,3])(-PI/2)(SEMISPHERE(2.4)([50,42]))))\n",
    "        insieme = JOIN([sferetta,cilindretto])\n",
    "        FirstColumnRing = STRUCT([minore,(COMP([STRUCT, DOUBLE_DIESIS(12)]))([insieme, R([1, 2])((RAISE(DIV)([PI,6])))])])\n",
    "        return FirstColumnRing\n",
    "    def SEMISPHERE (radius):\n",
    "        def GSPHERE0 (subds):\n",
    "            N , M = subds\n",
    "            domain = Hpc(Grid([N*[PI/N],M*[PI/M]]))\n",
    "            domain = MAT([[1,0,0,0],[-PI/2,1,0,0],[-PI,0,1,0],[0,0,0,1]])(domain)\n",
    "            fx  = lambda p: radius * math.cos(p[0]) * math.sin  (p[1])\n",
    "            fy  = lambda p: radius * math.cos(p[0]) * math.cos (p[1])\n",
    "            fz  = lambda p: radius * math.sin(p[0])\n",
    "            ret = GMAP([fx, fy, fz])(domain)\n",
    "            return ret\n",
    "        return GSPHERE0\n",
    "    return S([1,2,3])([a,b,c])((COLOR([0.6,0.2,0.0])(TOP([TOP([(STRUCT([base(),incavo()])),CYLINDER([20, 1.5])(64),]),strutture()]))))\n",
    "\n",
    "VIEW(ggpl_myLeonardo(1,1,1))"
   ]
  },
  {
   "cell_type": "markdown",
   "metadata": {
    "collapsed": true
   },
   "source": [
    "![My Leonardo](MyLeonardo.png)"
   ]
  },
  {
   "cell_type": "code",
   "execution_count": null,
   "metadata": {
    "collapsed": true
   },
   "outputs": [],
   "source": []
  }
 ],
 "metadata": {
  "kernelspec": {
   "display_name": "Python 2",
   "language": "python",
   "name": "python2"
  },
  "language_info": {
   "codemirror_mode": {
    "name": "ipython",
    "version": 2
   },
   "file_extension": ".py",
   "mimetype": "text/x-python",
   "name": "python",
   "nbconvert_exporter": "python",
   "pygments_lexer": "ipython2",
   "version": "2.7.13"
  }
 },
 "nbformat": 4,
 "nbformat_minor": 2
}
