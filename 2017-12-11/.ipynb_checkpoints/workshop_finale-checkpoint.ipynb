{
 "cells": [
  {
   "cell_type": "markdown",
   "metadata": {},
   "source": [
    "WORKSHOP FINALE\n",
    "==============="
   ]
  },
  {
   "cell_type": "code",
   "execution_count": null,
   "metadata": {},
   "outputs": [],
   "source": [
    "from pyplasm import*\n",
    "from larlib import*\n",
    "import math\n",
    "import csv"
   ]
  },
  {
   "cell_type": "code",
   "execution_count": null,
   "metadata": {
    "collapsed": true
   },
   "outputs": [],
   "source": [
    "def perimetro(): \n",
    "    with open(\"perimetro.lines\", \"rb\") as file:\n",
    "        file_reader = csv.reader(file, delimiter=\",\")\n",
    "        chiavi = {} ### diizionario delle chiavi\n",
    "        nodi = [] ### array con i vertici\n",
    "        archi= [] ### array con gli archi, ovvero gli spigoli\n",
    "        i = 0 ### inizializzo un contatore\n",
    "    \n",
    "        for righe in file_reader:\n",
    "            riga0 = math.floor(float(righe[0])*100)/100\n",
    "            riga1 = math.floor(float(righe[1])*100)/100\n",
    "            riga2 = math.floor(float(righe[2])*100)/100\n",
    "            riga3 = math.floor(float(righe[3])*100)/100\n",
    "        \n",
    "            if not(riga0,riga1) in chiavi.keys():\n",
    "                chiavi[(riga0,riga1)] = i\n",
    "                nodi.append((riga0,riga1))\n",
    "                i = i+1\n",
    "            \n",
    "            if not(riga2,riga3) in chiavi.keys():\n",
    "                chiavi[(riga2,riga3)] = i\n",
    "                nodi.append((riga2,riga3))\n",
    "                i = i+1\n",
    "            archi.append((chiavi[(riga0,riga1)],(chiavi[(riga2,riga3)])))\n",
    "        pavimento = T(2)(450)(CUBOID([850,400]))\n",
    "        corpoVilla = MULTEXTRUDE(OFFSET([20, 20])(STRUCT(MKPOLS([nodi,archi]))))(600)\n",
    "    return TEXTURE(\"intonaco.jpg\")(STRUCT([pavimento,corpoVilla]))"
   ]
  },
  {
   "cell_type": "code",
   "execution_count": null,
   "metadata": {},
   "outputs": [],
   "source": [
    "def tettoTriangolare1(depth,width):\n",
    "    return TEXTURE(\"tetto.jpg\")(S([1,2,3])([22,28.34,30])((ROTATE([1, 2])(PI)(ROTATE([2,3])(PI/2)(\n",
    "        MULTEXTRUDE(MKPOL([[[0, 0],[width/2,width/4],[width,0]],[[1,2,3]],None]))(depth))))))"
   ]
  },
  {
   "cell_type": "code",
   "execution_count": null,
   "metadata": {},
   "outputs": [],
   "source": [
    "def sopra():\n",
    "    return STRUCT([tettoTriangolare1(10,22)])\n"
   ]
  },
  {
   "cell_type": "code",
   "execution_count": null,
   "metadata": {
    "collapsed": true
   },
   "outputs": [],
   "source": [
    "def comignoli():\n",
    "    \n",
    "    base = TEXTURE(\"intonaco.jpg\")(T([1,2])([2.5,2.5])(CUBOID([10,10,20])))\n",
    "    \n",
    "    tettino = TEXTURE(\"intonaco.jpg\")(T(3)(20)(CUBOID([15,15,2])))\n",
    "    \n",
    "    rialzo = TEXTURE(\"intonaco.jpg\")(CUBOID([2,1.5,2]))\n",
    "    \n",
    "    rialziDestra = TEXTURE(\"intonaco.jpg\")(\n",
    "        STRUCT([T([1,2,3])([1,1,22])(rialzo),T([1,2,3])([1,6.75,22])(rialzo),T([1,2,3])([1,12.5,22])(rialzo)]))\n",
    "    \n",
    "    rialziSinistra = TEXTURE(\"intonaco.jpg\")(\n",
    "        STRUCT([T([1,2,3])([12,1,22])(rialzo),T([1,2,3])([12,6.75,22])(rialzo),T([1,2,3])([12,12,22])(rialzo)]))\n",
    "    \n",
    "    tetto = TEXTURE(\"intonaco.jpg\")(T(3)(24)(CUBOID([15,15,1])))\n",
    "    \n",
    "    comignolo = S([1,2,3])([4,4,4])(STRUCT([base,tettino,rialziDestra,rialziSinistra,tettino,tetto]))\n",
    "    \n",
    "    return STRUCT([comignolo])"
   ]
  },
  {
   "cell_type": "code",
   "execution_count": null,
   "metadata": {},
   "outputs": [],
   "source": [
    "VIEW(STRUCT([TOP([perimetro(),TOP([TEXTURE(\"tetto.jpg\")(CUBOID([850,400])),\n",
    "                                   LEFT([comignoli(),RIGHT([comignoli(),STRUCT([tettoTriangolare1(10,22)])])])])])]))"
   ]
  },
  {
   "cell_type": "code",
   "execution_count": null,
   "metadata": {},
   "outputs": [],
   "source": [
    "def SEMISPHERE (radius):\n",
    "        def GSPHERE0 (subds):\n",
    "            N , M = subds\n",
    "            domain = Hpc(Grid([N*[PI/N],M*[PI/M]]))\n",
    "            domain = MAT([[1,0,0,0],[-PI/2,1,0,0],[-PI,0,1,0],[0,0,0,1]])(domain)\n",
    "            fx  = lambda p: radius * math.cos(p[0]) * math.sin  (p[1])\n",
    "            fy  = lambda p: radius * math.cos(p[0]) * math.cos (p[1])\n",
    "            fz  = lambda p: radius * math.sin(p[0])\n",
    "            ret = GMAP([fx, fy, fz])(domain)\n",
    "            return ret\n",
    "        return GSPHERE0\n",
    "def facciata():\n",
    "        cilindretto=(CUBOID([20,30,120]))\n",
    "        sferetta =R([1,3])(-PI/2)(SEMISPHERE(24)([500,420]))\n",
    "        insieme = JOIN([sferetta,cilindretto])\n",
    "        return SCALE(3)(T([1,3,2])([-10,450,459])(STRUCT([insieme, T(1)(3)(insieme), T(1)(9)(insieme)])))"
   ]
  },
  {
   "cell_type": "code",
   "execution_count": null,
   "metadata": {},
   "outputs": [],
   "source": [
    "VIEW(STRUCT([perimetro(),facciata()]))"
   ]
  },
  {
   "cell_type": "code",
   "execution_count": null,
   "metadata": {
    "collapsed": true
   },
   "outputs": [],
   "source": []
  },
  {
   "cell_type": "code",
   "execution_count": null,
   "metadata": {
    "collapsed": true
   },
   "outputs": [],
   "source": []
  }
 ],
 "metadata": {
  "kernelspec": {
   "display_name": "Python 2",
   "language": "python",
   "name": "python2"
  },
  "language_info": {
   "codemirror_mode": {
    "name": "ipython",
    "version": 2
   },
   "file_extension": ".py",
   "mimetype": "text/x-python",
   "name": "python",
   "nbconvert_exporter": "python",
   "pygments_lexer": "ipython2",
   "version": "2.7.13"
  }
 },
 "nbformat": 4,
 "nbformat_minor": 2
}
