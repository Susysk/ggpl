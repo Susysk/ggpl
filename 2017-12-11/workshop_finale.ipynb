{
 "cells": [
  {
   "cell_type": "markdown",
   "metadata": {},
   "source": [
    "WORKSHOP FINALE\n",
    "==============="
   ]
  },
  {
   "cell_type": "code",
   "execution_count": 1,
   "metadata": {},
   "outputs": [
    {
     "name": "stdout",
     "output_type": "stream",
     "text": [
      "Evaluating fenvs.py..\n...fenvs.py imported in 0.014197 seconds\n"
     ]
    }
   ],
   "source": [
    "from pyplasm import *\n",
    "import math\n",
    "import csv\n",
    "\n",
    "from larlib import *"
   ]
  },
  {
   "cell_type": "code",
   "execution_count": 2,
   "metadata": {
    "collapsed": true
   },
   "outputs": [],
   "source": [
    "def perimetro(): \n",
    "    with open(\"/home/gianlorenzo/PycharmProjects/ggpl/2017-12-11/perimetro.lines\", \"rb\") as file:\n",
    "        file_reader = csv.reader(file, delimiter=\",\")\n",
    "        chiavi = {} ### diizionario delle chiavi\n",
    "        nodi = [] ### array con i vertici\n",
    "        archi= [] ### array con gli archi, ovvero gli spigoli\n",
    "        i = 0 ### inizializzo un contatore\n",
    "    \n",
    "        for righe in file_reader:\n",
    "            riga0 = math.floor(float(righe[0])*100)/100\n",
    "            riga1 = math.floor(float(righe[1])*100)/100\n",
    "            riga2 = math.floor(float(righe[2])*100)/100\n",
    "            riga3 = math.floor(float(righe[3])*100)/100\n",
    "        \n",
    "            if not(riga0,riga1) in chiavi.keys():\n",
    "                chiavi[(riga0,riga1)] = i\n",
    "                nodi.append((riga0,riga1))\n",
    "                i = i+1\n",
    "            \n",
    "            if not(riga2,riga3) in chiavi.keys():\n",
    "                chiavi[(riga2,riga3)] = i\n",
    "                nodi.append((riga2,riga3))\n",
    "                i = i+1\n",
    "            archi.append((chiavi[(riga0,riga1)],(chiavi[(riga2,riga3)])))\n",
    "        pavimento = T(2)(450)(CUBOID([850,400]))\n",
    "        corpoVilla = MULTEXTRUDE(OFFSET([20, 20])(STRUCT(MKPOLS([nodi,archi]))))(600)\n",
    "    return (S([1,2,3])([3,3,3])(\n",
    "        (STRUCT([pavimento,corpoVilla]))))"
   ]
  },
  {
   "cell_type": "code",
   "execution_count": 3,
   "metadata": {
    "collapsed": true
   },
   "outputs": [],
   "source": [
    "def arch(lateral_width, height, deep):\n",
    "\n",
    "    _lateral_width = float(lateral_width)\n",
    "    _height = float(height)\n",
    "    _deep = float(deep)\n",
    "\n",
    "    def bottomArc(d):\n",
    "        return BEZIER(S1)([[0, 0], [0, 2 * d / 3], [d, 2 * d / 3], [d, 0]])\n",
    "\n",
    "    def topArc(d):\n",
    "        return BEZIER(S1)([[0, 2 * d / 3], [d, 2 * d / 3]])\n",
    "\n",
    "    def arc2D(d):\n",
    "        return BEZIER(S2)([bottomArc(d), topArc(d)])\n",
    "\n",
    "    def arc3D(d):\n",
    "        def arc3D1(w):\n",
    "            arco = arc2D(d)\n",
    "            dominio = PROD([INTERVALS(1)(8), INTERVALS(1)(1)])\n",
    "            ar = MAP(arco)(dominio)\n",
    "            domin = PROD([ar, QUOTE([1.5])])\n",
    "            return COMP([T(2)(w), R([2, 3])(PI / 2)])(domin)\n",
    "\n",
    "        return arc3D1\n",
    "\n",
    "    def Interarc(d1, d2):\n",
    "        def Interarc1(w):\n",
    "            return CUBOID([d1, w, 2 * d2 / 3])\n",
    "\n",
    "        return Interarc1\n",
    "\n",
    "    def Xarc(d1, d2):\n",
    "        def Xarc1(w):\n",
    "            return RIGHT([RIGHT([Interarc(d1, d2)(w), arc3D(d2)(w)]), Interarc(d1, d2)(w)])\n",
    "\n",
    "        return Xarc1\n",
    "\n",
    "    return Xarc(_lateral_width, _height)(_deep)"
   ]
  },
  {
   "cell_type": "code",
   "execution_count": 4,
   "metadata": {
    "collapsed": true
   },
   "outputs": [],
   "source": [
    "def porticato():\n",
    "    return STRUCT([CUBOID([540,650,1800]),T(1)(2040)(CUBOID([540,650,1800]))])\n",
    "\n",
    "def arcate():\n",
    "    return STRUCT([(S(1)(0.15)(T([1,2])([4230,750])(arch(15,2700,-50)))),\n",
    "                  S(1)(0.2)(T([1,2])([5130,750])(arch(15,2700,-50))),\n",
    "                  S(1)(0.2)(T([1,2])([7750,750])(arch(85,2700,-50)))])\n",
    "\n",
    "def porticatoCompleto():\n",
    "    return STRUCT([T(2)(700)(porticato()),T(1)(-90)(arcate())])"
   ]
  },
  {
   "cell_type": "code",
   "execution_count": 5,
   "metadata": {
    "collapsed": true
   },
   "outputs": [],
   "source": [
    "def tettoTriangolare2(depth,width):\n",
    "    return ROTATE([1,2])(PI/2)(S([1,2,3])([28,28.65,35])(T([1,2,3])([92.5,-90,51])(ROTATE([1, 2])(PI)(ROTATE([2,3])(PI/2)(\n",
    "        MULTEXTRUDE(MKPOL([[[0, 0],[width/2,width/4],[width,0]],[[1,2,3]],None]))(depth))))))"
   ]
  },
  {
   "cell_type": "code",
   "execution_count": 6,
   "metadata": {},
   "outputs": [
    {
     "data": {
      "text/plain": [
       "<pyplasm.xgepy.Hpc; proxy of <Swig Object of type 'std::shared_ptr< Hpc > *' at 0x7f4472cefc00> >"
      ]
     },
     "execution_count": 6,
     "metadata": {},
     "output_type": "execute_result"
    }
   ],
   "source": [
    "VIEW(STRUCT([tettoTriangolare2(90,68),STRUCT([porticatoCompleto(),(perimetro())])]))"
   ]
  },
  {
   "cell_type": "code",
   "execution_count": 7,
   "metadata": {
    "collapsed": true
   },
   "outputs": [],
   "source": [
    ""
   ]
  },
  {
   "cell_type": "code",
   "execution_count": 8,
   "metadata": {},
   "outputs": [],
   "source": [
    ""
   ]
  },
  {
   "cell_type": "code",
   "execution_count": 9,
   "metadata": {},
   "outputs": [
    {
     "data": {
      "text/plain": [
       "<pyplasm.xgepy.Hpc; proxy of <Swig Object of type 'std::shared_ptr< Hpc > *' at 0x7fbdbd2db330> >"
      ]
     },
     "execution_count": 9,
     "metadata": {},
     "output_type": "execute_result"
    }
   ],
   "source": [
    ""
   ]
  },
  {
   "cell_type": "code",
   "execution_count": 3,
   "metadata": {
    "collapsed": false
   },
   "outputs": [
    {
     "data": {
      "text/plain": [
       "<pyplasm.xgepy.Hpc; proxy of <Swig Object of type 'std::shared_ptr< Hpc > *' at 0x7f982c208f90> >"
      ]
     },
     "execution_count": 3,
     "metadata": {},
     "output_type": "execute_result"
    }
   ],
   "source": [
    ""
   ]
  },
  {
   "cell_type": "code",
   "execution_count": null,
   "metadata": {},
   "outputs": [],
   "source": [
    ""
   ]
  },
  {
   "cell_type": "code",
   "execution_count": null,
   "metadata": {},
   "outputs": [],
   "source": [
    ""
   ]
  },
  {
   "cell_type": "code",
   "execution_count": null,
   "metadata": {},
   "outputs": [],
   "source": []
  }
 ],
 "metadata": {
  "kernelspec": {
   "display_name": "Python 2",
   "language": "python",
   "name": "python2"
  },
  "language_info": {
   "codemirror_mode": {
    "name": "ipython",
    "version": 2
   },
   "file_extension": ".py",
   "mimetype": "text/x-python",
   "name": "python",
   "nbconvert_exporter": "python",
   "pygments_lexer": "ipython2",
   "version": "2.7.13"
  }
 },
 "nbformat": 4,
 "nbformat_minor": 2
}
