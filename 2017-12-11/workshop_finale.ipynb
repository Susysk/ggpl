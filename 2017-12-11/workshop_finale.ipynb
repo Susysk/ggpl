{
 "cells": [
  {
   "cell_type": "markdown",
   "metadata": {},
   "source": [
    "### WORKSHOP FINALE\n",
    "\n",
    "#### Realizzazione di Villa Gazzotti progettata da Andrea Palladio"
   ]
  },
  {
   "cell_type": "code",
   "execution_count": 1,
   "metadata": {},
   "outputs": [
    {
     "name": "stdout",
     "output_type": "stream",
     "text": [
      "Evaluating fenvs.py..\n",
      "...fenvs.py imported in 0.0183 seconds\n"
     ]
    }
   ],
   "source": [
    "from pyplasm import *\n",
    "import math\n",
    "import csv\n",
    "\n",
    "from larlib import *"
   ]
  },
  {
   "cell_type": "markdown",
   "metadata": {},
   "source": [
    "![villaFrontale.jpg](villaFrontale.jpg)"
   ]
  },
  {
   "cell_type": "markdown",
   "metadata": {},
   "source": [
    "![villaLaterale.jpg](villaLaterale.jpg)"
   ]
  },
  {
   "cell_type": "code",
   "execution_count": 15,
   "metadata": {},
   "outputs": [],
   "source": [
    "def perimetro(): \n",
    "    with open(\"perimetro.lines\", \"rb\") as file:\n",
    "        file_reader = csv.reader(file, delimiter=\",\")\n",
    "        chiavi = {} ### diizionario delle chiavi\n",
    "        nodi = [] ### array con i vertici\n",
    "        archi= [] ### array con gli archi, ovvero gli spigoli\n",
    "        i = 0 ### inizializzo un contatore\n",
    "    \n",
    "        for righe in file_reader:\n",
    "            riga0 = math.floor(float(righe[0])*100)/100\n",
    "            riga1 = math.floor(float(righe[1])*100)/100\n",
    "            riga2 = math.floor(float(righe[2])*100)/100\n",
    "            riga3 = math.floor(float(righe[3])*100)/100\n",
    "        \n",
    "            if not(riga0,riga1) in chiavi.keys():\n",
    "                chiavi[(riga0,riga1)] = i\n",
    "                nodi.append((riga0,riga1))\n",
    "                i = i+1\n",
    "            \n",
    "            if not(riga2,riga3) in chiavi.keys():\n",
    "                chiavi[(riga2,riga3)] = i\n",
    "                nodi.append((riga2,riga3))\n",
    "                i = i+1\n",
    "            archi.append((chiavi[(riga0,riga1)],(chiavi[(riga2,riga3)])))\n",
    "        pavimento = T(2)(450)(CUBOID([850,400]))\n",
    "        corpoVilla = MULTEXTRUDE(OFFSET([20, 20])(STRUCT(MKPOLS([nodi,archi]))))(600)\n",
    "    return TEXTURE(\"intonacoVilla.jpg\")(S([1,2,3])([3,3,3])(\n",
    "        (STRUCT([pavimento,corpoVilla]))))"
   ]
  },
  {
   "cell_type": "code",
   "execution_count": 16,
   "metadata": {},
   "outputs": [],
   "source": [
    "def arch(lateral_width, height, deep):\n",
    "\n",
    "    _lateral_width = float(lateral_width)\n",
    "    _height = float(height)\n",
    "    _deep = float(deep)\n",
    "\n",
    "    def bottomArc(d):\n",
    "        return BEZIER(S1)([[0, 0], [0, 2 * d / 3], [d, 2 * d / 3], [d, 0]])\n",
    "\n",
    "    def topArc(d):\n",
    "        return BEZIER(S1)([[0, 2 * d / 3], [d, 2 * d / 3]])\n",
    "\n",
    "    def arc2D(d):\n",
    "        return BEZIER(S2)([bottomArc(d), topArc(d)])\n",
    "\n",
    "    def arc3D(d):\n",
    "        def arc3D1(w):\n",
    "            arco = arc2D(d)\n",
    "            dominio = PROD([INTERVALS(1)(8), INTERVALS(1)(1)])\n",
    "            ar = MAP(arco)(dominio)\n",
    "            domin = PROD([ar, QUOTE([1.5])])\n",
    "            return COMP([T(2)(w), R([2, 3])(PI / 2)])(domin)\n",
    "\n",
    "        return arc3D1\n",
    "\n",
    "    def Interarc(d1, d2):\n",
    "        def Interarc1(w):\n",
    "            return CUBOID([d1, w, 2 * d2 / 3])\n",
    "\n",
    "        return Interarc1\n",
    "\n",
    "    def Xarc(d1, d2):\n",
    "        def Xarc1(w):\n",
    "            return RIGHT([RIGHT([Interarc(d1, d2)(w), arc3D(d2)(w)]), Interarc(d1, d2)(w)])\n",
    "\n",
    "        return Xarc1\n",
    "\n",
    "    return Xarc(_lateral_width, _height)(_deep)"
   ]
  },
  {
   "cell_type": "code",
   "execution_count": 17,
   "metadata": {},
   "outputs": [],
   "source": [
    "def porticato():\n",
    "    return STRUCT([CUBOID([540,650,1800]),T(1)(2040)(CUBOID([540,650,1800]))])\n",
    "\n",
    "def arcate():\n",
    "    return STRUCT([(S(1)(0.15)(T([1,2])([4230,750])(arch(15,2700,-50)))),\n",
    "                  S(1)(0.2)(T([1,2])([5130,750])(arch(15,2700,-50))),\n",
    "                  S(1)(0.2)(T([1,2])([7750,750])(arch(85,2700,-50)))])\n",
    "\n",
    "def porticatoCompleto():\n",
    "    return TEXTURE(\"intonacoVilla.jpg\")(STRUCT([T(2)(700)(porticato()),T(1)(-90)(arcate())]))"
   ]
  },
  {
   "cell_type": "code",
   "execution_count": 18,
   "metadata": {},
   "outputs": [],
   "source": [
    "def tettoTriangolare2(depth,width):\n",
    "    return TEXTURE(\"tetto.jpg\")(ROTATE([1,2])(PI/2)(S([1,2,3])([28,28.65,35])(T([1,2,3])([93,-90,51])(ROTATE([1, 2])(PI)(ROTATE([2,3])(PI/2)(\n",
    "        MULTEXTRUDE(MKPOL([[[0, 0],[width/2,width/4],[width,0]],[[1,2,3]],None]))(depth)))))))"
   ]
  },
  {
   "cell_type": "code",
   "execution_count": 19,
   "metadata": {},
   "outputs": [],
   "source": [
    "def tettoTriangolare1(depth,width):\n",
    "    return TEXTURE(\"tetto.jpg\")(S([1,2,3])([22,28.34,30])(T([1,2,3])([92.5,24,60])((ROTATE([1, 2])(PI)(ROTATE([2,3])(PI/2)(\n",
    "        MULTEXTRUDE(MKPOL([[[0, 0],[width/2,width/4],[width,0]],[[1,2,3]],None]))(depth)))))))"
   ]
  },
  {
   "cell_type": "code",
   "execution_count": 20,
   "metadata": {},
   "outputs": [],
   "source": [
    "def comignoli():\n",
    "    \n",
    "    base = TEXTURE(\"intonacoVilla.jpg\")(T([1,2])([2.5,2.5])(CUBOID([10,10,20])))\n",
    "    \n",
    "    tettino = TEXTURE(\"intonacoTetto.jpg\")(T(3)(20)(CUBOID([15,15,2])))\n",
    "    \n",
    "    rialzo = TEXTURE(\"intonacoVilla.jpg\")(CUBOID([2,1.5,2]))\n",
    "    \n",
    "    rialziDestra = TEXTURE(\"intonacoVilla.jpg\")(\n",
    "        STRUCT([T([1,2,3])([1,1,22])(rialzo),T([1,2,3])([1,6.75,22])(rialzo),T([1,2,3])([1,12.5,22])(rialzo)]))\n",
    "    \n",
    "    rialziSinistra = TEXTURE(\"intonacoVilla.jpg\")(\n",
    "        STRUCT([T([1,2,3])([12,1,22])(rialzo),T([1,2,3])([12,6.75,22])(rialzo),T([1,2,3])([12,12,22])(rialzo)]))\n",
    "    \n",
    "    tetto = TEXTURE(\"intonacoVilla.jpg\")(T(3)(24)(CUBOID([15,15,1])))\n",
    "    \n",
    "    rialziTettoAvanti = STRUCT([R([1,3])(PI/4)((T([1,2,3])([15,0,17])(CUBOID([15,15,2])))),\n",
    "                                R([1,3])(-PI/4)((T([1,2,3])([-18,0,28])(CUBOID([14,15,2]))))])\n",
    "    \n",
    "    comignolo = S([1,2,3])([9,9,9])(STRUCT([rialziTettoAvanti,\n",
    "    base,tettino,rialziDestra,rialziSinistra,tettino,tetto]))\n",
    "    \n",
    "    return TEXTURE(\"intonacoVilla.jpg\")(T(3)(1300)(STRUCT([T([1,2,3])([265,850,625])(comignolo),T([1,2,3])([2255,850,625])(comignolo),\n",
    "                   R([1,2])(PI/2)(T([1,2,3])([2255,-2150,625])(comignolo)),\n",
    "                   R([1,2])(PI/2)(T([1,2,3])([2255,-600,625])(comignolo)),\n",
    "                   T([1,2,3])([265,1850,855])(comignolo)])))"
   ]
  },
  {
   "cell_type": "code",
   "execution_count": 21,
   "metadata": {},
   "outputs": [],
   "source": [
    "def piramide(depth,width,height):\n",
    "    \n",
    "    _width = float(width)\n",
    "    \n",
    "    _scale = float(depth)/_width\n",
    "    \n",
    "    _height = float(height)\n",
    "    \n",
    "    return SCALE(2)(_scale)(ROTATE([1,2])(PI/4)(CONE([_width*(1/SQRT(2)),_height])(4)))\n",
    "\n",
    "def scala():\n",
    "    \n",
    "    corrimanoDestro = TEXTURE(\"intonacoVilla.jpg\")(T([1,2,3])([330,1070,127.5])(R([2,3])(-PI)(DIFFERENCE([CUBOID([20,150,130]),\n",
    "                                                                             piramide(400,10000,100)]))))\n",
    "    \n",
    "    corrimanoSinistro = TEXTURE(\"intonacoVilla.jpg\")(T([1,2,3])([500,1070,127.5])(R([2,3])(-PI)(DIFFERENCE([CUBOID([20,150,130]),\n",
    "                                                                             piramide(400,10000,100)]))))\n",
    "    \n",
    "    return S([1,2,3])([3,3,3])(R([1,2])(PI)(T([1,2])([-830,-1150])(STRUCT([T([1,2,3])([350,1070,102])(R([2,3])(-PI)(TEXTURE(\"scala.JPG\")(DIFFERENCE([CUBOID([160,150,103]),\n",
    "                                                                        piramide(300,70000,100)])))),corrimanoDestro,\n",
    "                                                                                                          corrimanoSinistro]))))"
   ]
  },
  {
   "cell_type": "code",
   "execution_count": 22,
   "metadata": {},
   "outputs": [],
   "source": [
    "def pavimentoPortico():\n",
    "    return TEXTURE(\"intonacoVilla.jpg\")(S([1,2,3])([3,3,3])(T([1,2])([182,232])(CUBOID([500,220,100]))))"
   ]
  },
  {
   "cell_type": "code",
   "execution_count": 23,
   "metadata": {},
   "outputs": [],
   "source": [
    "def portaIngresso():\n",
    "    \n",
    "    antaSinistraPortone = T([1])([0.2])(CUBOID([0.1,0.1,1.2]))\n",
    "    \n",
    "    travePortone = T([1,3])([-0.5,1.2])(CUBOID([0.8,0.1,0.1]))\n",
    "        \n",
    "    trave3Portone = R([1,3])(PI/4)(T([1,3])([0.3,1.3])(CUBOID([0.85,0.1,0.15])))\n",
    "    \n",
    "    cornicePorta = STRUCT([antaSinistraPortone,travePortone,trave3Portone])\n",
    "    \n",
    "    porta = COLOR([0.6,0.4,0.2])(R([2,3])(PI/2)(T([1,2,3])([-0.6,-0.001,-0.1])(CUBOID([0.8,1.2]))))\n",
    "    \n",
    "    return ((S([1,2,3])([400,350,550])(T([1,2,3])([3.25,3.7,0.4])(STRUCT([porta,TEXTURE(\"intonacoFinestre.jpg\")(\n",
    "        STRUCT([cornicePorta,T([1,2])([-0.4,0.1])(R([1,2])(PI)(cornicePorta))]))])))))"
   ]
  },
  {
   "cell_type": "code",
   "execution_count": 24,
   "metadata": {},
   "outputs": [],
   "source": [
    "def traveEAnta():\n",
    "    \n",
    "    antaSinistraPortone = T([1])([0.2])(CUBOID([0.1,0.1,1.2]))\n",
    "    \n",
    "    travePortone = T([1,3])([-0.5,1.2])(CUBOID([0.8,0.1,0.1]))\n",
    "    \n",
    "    trave2Portone = T([1,3])([-0.5,-0.1])(CUBOID([0.8,0.1,0.1]))\n",
    "    \n",
    "    trave3Portone = R([1,3])(PI/4)(T([1,3])([0.3,1.3])(CUBOID([0.85,0.1,0.15])))\n",
    "    \n",
    "    return STRUCT([antaSinistraPortone,travePortone,trave2Portone,trave3Portone])\n",
    "\n",
    "def finestreFrontali():\n",
    "    \n",
    "    antaFinestra = COLOR([0.6,0.4,0.2])(R([2,3])(PI/2)(T([1,2,3])([-0.6,-0.1,-0.1])(CUBOID([0.8,1.3]))))\n",
    "    \n",
    "    finestraInferiore = STRUCT([antaFinestra,\n",
    "                                        TEXTURE(\"intonacoFinestre.jpg\")(STRUCT([traveEAnta(),\n",
    "                                                                        T([1,2])([-0.4,0.1])(R([1,2])(PI)(traveEAnta()))]))])\n",
    "    \n",
    "   \n",
    "    \n",
    "    return T([2,3])([-1420,50])(S([1,2,3])([300,300,300])(\n",
    "        STRUCT([T([1,2,3])([7.9,6.95,1.5])(finestraInferiore),\n",
    "                        T([1,2,3])([1.2,6.95,1.6])(finestraInferiore)])))\n",
    "\n",
    "def finestreLaterali():\n",
    "    \n",
    "    finestreSinistra = COLOR(BLACK)(S([1,2,3])([100,100,100])(R([1,3])(PI/2)(R([2,3])(PI)(\n",
    "        STRUCT([\n",
    "        T([1,2,3])([5,-6.7,-0.001])(CUBOID([0.6,1])),\n",
    "            T([1,2,3])([5,-2.8-0.001])\n",
    "            (CUBOID([0.6,1]))])))))\n",
    "    \n",
    "    finestreDestra = COLOR(BLACK)(S([1,2,3])([100,100,100])\n",
    "        (R([1,3])(PI/2)(R([2,3])(PI)(STRUCT([\n",
    "        T([1,2,3])([5,-6.7,8.64])\n",
    "        (CUBOID([0.6,1])),T([1,2,3])([5,-2.8,8.64])(CUBOID([0.6,1]))])))))\n",
    "    \n",
    "    antaFinestra = COLOR([0.6,0.4,0.2])(R([2,3])(PI/2)(T([1,2,3])([-0.6,-0.1,-0.1])(CUBOID([0.8,1.3]))))\n",
    "    \n",
    "    finestraBassaDestra = S([1,2,3])([100,100,100])(STRUCT([antaFinestra,\n",
    "                                        TEXTURE(\"intonacoFinestre.jpg\")(STRUCT([traveEAnta(),\n",
    "                                                                        T([1,2])([-0.4,0.1])(R([1,2])(PI)(traveEAnta()))]))]))\n",
    "    \n",
    "    finestreBasseDestra = R([1,2])(PI/2)(R([2,3])(2*PI)(\n",
    "        STRUCT([T([1,2,3])([650,-2,160.64])(finestraBassaDestra),\n",
    "        T([1,2,3])([250,-2,160.64])(finestraBassaDestra)])))\n",
    "    \n",
    "    finestraBassaSinistra = S([1,2,3])([100,100,100])(R([1,2])(-PI/2)(STRUCT([antaFinestra,\n",
    "                                        TEXTURE(\"intonacoFinestre.jpg\")(\n",
    "                                            STRUCT([traveEAnta(),T([1,2])([-0.4,0.1])(R([1,2])(PI)(traveEAnta()))]))])))\n",
    "    \n",
    "    finestreBasseSinistra = STRUCT([T([1,2,3])([860,600,160.64])(finestraBassaSinistra),\n",
    "                                   \n",
    "                                   T([1,2,3])([860,200,160.64])(finestraBassaSinistra)])\n",
    "    \n",
    "    return T(2)(300)(S([1,2,3])([3,3,3])(STRUCT([finestreSinistra,finestreDestra,finestreBasseDestra,\n",
    "                                             finestreBasseSinistra])))"
   ]
  },
  {
   "cell_type": "code",
   "execution_count": 25,
   "metadata": {},
   "outputs": [],
   "source": [
    "def prato():\n",
    "    \n",
    "    vialetto = TEXTURE(\"vialetto.JPG\")(T([1,2])([3980,100])(CUBOID([450,2700])))\n",
    "    \n",
    "    prato = TEXTURE(\"prato.jpg\")(S([1,2])([2,2])(CUBOID([4600,4400])))\n",
    "    \n",
    "    return T([1,2])([-3000,-2500])(STRUCT([prato,vialetto]))"
   ]
  },
  {
   "cell_type": "code",
   "execution_count": 26,
   "metadata": {},
   "outputs": [],
   "source": [
    "def villaGazzotti():\n",
    "    return (STRUCT([prato(),portaIngresso(),finestreLaterali(),finestreFrontali(),scala(),comignoli(),STRUCT([tettoTriangolare1(67.5,68),STRUCT([tettoTriangolare2(90,68),\n",
    "                            STRUCT([porticatoCompleto(),pavimentoPortico(),(perimetro())])])])]))"
   ]
  },
  {
   "cell_type": "code",
   "execution_count": 27,
   "metadata": {},
   "outputs": [
    {
     "data": {
      "text/plain": [
       "<pyplasm.xgepy.Hpc; proxy of <Swig Object of type 'std::shared_ptr< Hpc > *' at 0x7f0059ac1c60> >"
      ]
     },
     "execution_count": 27,
     "metadata": {},
     "output_type": "execute_result"
    }
   ],
   "source": [
    "VIEW(villaGazzotti())"
   ]
  },
  {
   "cell_type": "code",
   "execution_count": 773,
   "metadata": {},
   "outputs": [],
   "source": []
  },
  {
   "cell_type": "code",
   "execution_count": 775,
   "metadata": {},
   "outputs": [
    {
     "data": {
      "text/plain": [
       "<pyplasm.xgepy.Hpc; proxy of <Swig Object of type 'std::shared_ptr< Hpc > *' at 0x7fdfde5b4870> >"
      ]
     },
     "execution_count": 775,
     "metadata": {},
     "output_type": "execute_result"
    }
   ],
   "source": []
  },
  {
   "cell_type": "code",
   "execution_count": 581,
   "metadata": {},
   "outputs": [],
   "source": []
  },
  {
   "cell_type": "code",
   "execution_count": null,
   "metadata": {},
   "outputs": [],
   "source": []
  }
 ],
 "metadata": {
  "kernelspec": {
   "display_name": "Python 2",
   "language": "python",
   "name": "python2"
  },
  "language_info": {
   "codemirror_mode": {
    "name": "ipython",
    "version": 2
   },
   "file_extension": ".py",
   "mimetype": "text/x-python",
   "name": "python",
   "nbconvert_exporter": "python",
   "pygments_lexer": "ipython2",
   "version": "2.7.14"
  }
 },
 "nbformat": 4,
 "nbformat_minor": 2
}
