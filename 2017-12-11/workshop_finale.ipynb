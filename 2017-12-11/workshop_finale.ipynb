{
 "cells": [
  {
   "cell_type": "markdown",
   "metadata": {},
   "source": [
    "WORKSHOP FINALE\n",
    "==============="
   ]
  },
  {
   "cell_type": "code",
   "execution_count": 2,
   "metadata": {},
   "outputs": [],
   "source": [
    "from pyplasm import *\n",
    "import math\n",
    "import csv\n",
    "\n",
    "from larlib import *"
   ]
  },
  {
   "cell_type": "code",
   "execution_count": 13,
   "metadata": {
    "collapsed": true
   },
   "outputs": [],
   "source": [
    "def perimetro(): \n",
    "    with open(\"/home/gianlorenzo/PycharmProjects/ggpl/2017-12-11/perimetro.lines\", \"rb\") as file:\n",
    "        file_reader = csv.reader(file, delimiter=\",\")\n",
    "        chiavi = {} ### diizionario delle chiavi\n",
    "        nodi = [] ### array con i vertici\n",
    "        archi= [] ### array con gli archi, ovvero gli spigoli\n",
    "        i = 0 ### inizializzo un contatore\n",
    "    \n",
    "        for righe in file_reader:\n",
    "            riga0 = math.floor(float(righe[0])*100)/100\n",
    "            riga1 = math.floor(float(righe[1])*100)/100\n",
    "            riga2 = math.floor(float(righe[2])*100)/100\n",
    "            riga3 = math.floor(float(righe[3])*100)/100\n",
    "        \n",
    "            if not(riga0,riga1) in chiavi.keys():\n",
    "                chiavi[(riga0,riga1)] = i\n",
    "                nodi.append((riga0,riga1))\n",
    "                i = i+1\n",
    "            \n",
    "            if not(riga2,riga3) in chiavi.keys():\n",
    "                chiavi[(riga2,riga3)] = i\n",
    "                nodi.append((riga2,riga3))\n",
    "                i = i+1\n",
    "            archi.append((chiavi[(riga0,riga1)],(chiavi[(riga2,riga3)])))\n",
    "        pavimento = T(2)(450)(CUBOID([850,400]))\n",
    "        corpoVilla = MULTEXTRUDE(OFFSET([20, 20])(STRUCT(MKPOLS([nodi,archi]))))(600)\n",
    "    return TEXTURE(\"intonaco.jpg\")(STRUCT([pavimento,corpoVilla]))"
   ]
  },
  {
   "cell_type": "code",
   "execution_count": 14,
   "metadata": {
    "collapsed": true
   },
   "outputs": [],
   "source": [
    "def tettoTriangolare1(depth,width):\n",
    "    return TEXTURE(\"tetto.jpg\")(S([1,2,3])([22,28.34,30])((ROTATE([1, 2])(PI)(ROTATE([2,3])(PI/2)(\n",
    "        MULTEXTRUDE(MKPOL([[[0, 0],[width/2,width/4],[width,0]],[[1,2,3]],None]))(depth))))))"
   ]
  },
  {
   "cell_type": "code",
   "execution_count": 15,
   "metadata": {
    "collapsed": true
   },
   "outputs": [],
   "source": [
    "def sopra():\n",
    "    return STRUCT([tettoTriangolare1(10,22)])\n"
   ]
  },
  {
   "cell_type": "code",
   "execution_count": 16,
   "metadata": {
    "collapsed": true
   },
   "outputs": [],
   "source": [
    "def comignoli():\n",
    "    \n",
    "    base = TEXTURE(\"intonaco.jpg\")(T([1,2])([2.5,2.5])(CUBOID([10,10,20])))\n",
    "    \n",
    "    tettino = TEXTURE(\"intonaco.jpg\")(T(3)(20)(CUBOID([15,15,2])))\n",
    "    \n",
    "    rialzo = TEXTURE(\"intonaco.jpg\")(CUBOID([2,1.5,2]))\n",
    "    \n",
    "    rialziDestra = TEXTURE(\"intonaco.jpg\")(\n",
    "        STRUCT([T([1,2,3])([1,1,22])(rialzo),T([1,2,3])([1,6.75,22])(rialzo),T([1,2,3])([1,12.5,22])(rialzo)]))\n",
    "    \n",
    "    rialziSinistra = TEXTURE(\"intonaco.jpg\")(\n",
    "        STRUCT([T([1,2,3])([12,1,22])(rialzo),T([1,2,3])([12,6.75,22])(rialzo),T([1,2,3])([12,12,22])(rialzo)]))\n",
    "    \n",
    "    tetto = TEXTURE(\"intonaco.jpg\")(T(3)(24)(CUBOID([15,15,1])))\n",
    "    \n",
    "    comignolo = S([1,2,3])([4,4,4])(STRUCT([base,tettino,rialziDestra,rialziSinistra,tettino,tetto]))\n",
    "    \n",
    "    return STRUCT([TEXTURE(\"intonaco.jpg\")(comignolo)])"
   ]
  },
  {
   "cell_type": "code",
   "execution_count": 17,
   "metadata": {},
   "outputs": [
    {
     "data": {
      "text/plain": [
       "<pyplasm.xgepy.Hpc; proxy of <Swig Object of type 'std::shared_ptr< Hpc > *' at 0x7f6697073ed0> >"
      ]
     },
     "execution_count": 17,
     "metadata": {},
     "output_type": "execute_result"
    }
   ],
   "source": [
    ""
   ]
  },
  {
   "cell_type": "code",
   "execution_count": 18,
   "metadata": {
    "collapsed": true
   },
   "outputs": [],
   "source": [
    "def arch(lateral_width, height, deep):\n",
    "\n",
    "    _lateral_width = float(lateral_width)\n",
    "    _height = float(height)\n",
    "    _deep = float(deep)\n",
    "\n",
    "    def bottomArc(d):\n",
    "        return BEZIER(S1)([[0, 0], [0, 2 * d / 3], [d, 2 * d / 3], [d, 0]])\n",
    "\n",
    "    def topArc(d):\n",
    "        return BEZIER(S1)([[0, 2 * d / 3], [d, 2 * d / 3]])\n",
    "\n",
    "    def arc2D(d):\n",
    "        return BEZIER(S2)([bottomArc(d), topArc(d)])\n",
    "\n",
    "    def arc3D(d):\n",
    "        def arc3D1(w):\n",
    "            arco = arc2D(d)\n",
    "            dominio = PROD([INTERVALS(1)(8), INTERVALS(1)(1)])\n",
    "            ar = MAP(arco)(dominio)\n",
    "            domin = PROD([ar, QUOTE([1.5])])\n",
    "            return COMP([T(2)(w), R([2, 3])(PI / 2)])(domin)\n",
    "\n",
    "        return arc3D1\n",
    "\n",
    "    def Interarc(d1, d2):\n",
    "        def Interarc1(w):\n",
    "            return CUBOID([d1, w, 2 * d2 / 3])\n",
    "\n",
    "        return Interarc1\n",
    "\n",
    "    def Xarc(d1, d2):\n",
    "        def Xarc1(w):\n",
    "            return RIGHT([RIGHT([Interarc(d1, d2)(w), arc3D(d2)(w)]), Interarc(d1, d2)(w)])\n",
    "\n",
    "        return Xarc1\n",
    "\n",
    "    return Xarc(_lateral_width, _height)(_deep)"
   ]
  },
  {
   "cell_type": "code",
   "execution_count": 19,
   "metadata": {},
   "outputs": [],
   "source": [
    "def porticato():\n",
    "    return STRUCT([CUBOID([540,650,1800]),T(1)(2040)(CUBOID([540,650,1800]))])\n",
    "\n",
    "def arcate():\n",
    "    return STRUCT([(S(1)(0.15)(T([1,2])([4230,750])(arch(15,2700,-50)))),\n",
    "                  S(1)(0.2)(T([1,2])([5130,750])(arch(15,2700,-50))),\n",
    "                  S(1)(0.2)(T([1,2])([7750,750])(arch(85,2700,-50)))])\n",
    "\n",
    "def porticatoCompleto():\n",
    "    return STRUCT([T(2)(700)(porticato()),T(1)(-90)(arcate())])"
   ]
  },
  {
   "cell_type": "code",
   "execution_count": 20,
   "metadata": {},
   "outputs": [
    {
     "data": {
      "text/plain": [
       "<pyplasm.xgepy.Hpc; proxy of <Swig Object of type 'std::shared_ptr< Hpc > *' at 0x7f66973c39f0> >"
      ]
     },
     "execution_count": 20,
     "metadata": {},
     "output_type": "execute_result"
    }
   ],
   "source": [
    "VIEW(STRUCT([porticatoCompleto(),TOP([S([1,2,3])([3,3,3])(perimetro()),TOP([TEXTURE(\"tetto.jpg\")(CUBOID([850,400])),\n",
    "                                   LEFT([comignoli(),RIGHT([comignoli(),STRUCT([tettoTriangolare1(10,22)])])])])])]))"
   ]
  },
  {
   "cell_type": "code",
   "execution_count": 3,
   "metadata": {
    "collapsed": false
   },
   "outputs": [
    {
     "data": {
      "text/plain": [
       "<pyplasm.xgepy.Hpc; proxy of <Swig Object of type 'std::shared_ptr< Hpc > *' at 0x7f982c208f90> >"
      ]
     },
     "execution_count": 3,
     "metadata": {},
     "output_type": "execute_result"
    }
   ],
   "source": [
    ""
   ]
  },
  {
   "cell_type": "code",
   "execution_count": null,
   "metadata": {},
   "outputs": [],
   "source": [
    ""
   ]
  },
  {
   "cell_type": "code",
   "execution_count": null,
   "metadata": {},
   "outputs": [],
   "source": [
    ""
   ]
  },
  {
   "cell_type": "code",
   "execution_count": null,
   "metadata": {},
   "outputs": [],
   "source": []
  }
 ],
 "metadata": {
  "kernelspec": {
   "display_name": "Python 2",
   "language": "python",
   "name": "python2"
  },
  "language_info": {
   "codemirror_mode": {
    "name": "ipython",
    "version": 2
   },
   "file_extension": ".py",
   "mimetype": "text/x-python",
   "name": "python",
   "nbconvert_exporter": "python",
   "pygments_lexer": "ipython2",
   "version": "2.7.13"
  }
 },
 "nbformat": 4,
 "nbformat_minor": 2
}
