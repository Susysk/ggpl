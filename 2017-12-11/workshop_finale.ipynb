{
 "cells": [
  {
   "cell_type": "markdown",
   "metadata": {},
   "source": [
    "WORKSHOP FINALE\n",
    "==============="
   ]
  },
  {
   "cell_type": "code",
   "execution_count": 1,
   "metadata": {},
   "outputs": [
    {
     "name": "stdout",
     "output_type": "stream",
     "text": [
      "Evaluating fenvs.py..\n",
      "...fenvs.py imported in 0.007323 seconds\n"
     ]
    }
   ],
   "source": [
    "from pyplasm import*\n",
    "from larlib import*\n",
    "import math\n",
    "import csv"
   ]
  },
  {
   "cell_type": "code",
   "execution_count": 2,
   "metadata": {
    "collapsed": true
   },
   "outputs": [],
   "source": [
    "def perimetro(): \n",
    "    with open(\"perimetro.lines\", \"rb\") as file:\n",
    "        file_reader = csv.reader(file, delimiter=\",\")\n",
    "        chiavi = {} ### diizionario delle chiavi\n",
    "        nodi = [] ### array con i vertici\n",
    "        archi= [] ### array con gli archi, ovvero gli spigoli\n",
    "        i = 0 ### inizializzo un contatore\n",
    "    \n",
    "        for righe in file_reader:\n",
    "            riga0 = math.floor(float(righe[0])*100)/100\n",
    "            riga1 = math.floor(float(righe[1])*100)/100\n",
    "            riga2 = math.floor(float(righe[2])*100)/100\n",
    "            riga3 = math.floor(float(righe[3])*100)/100\n",
    "        \n",
    "            if not(riga0,riga1) in chiavi.keys():\n",
    "                chiavi[(riga0,riga1)] = i\n",
    "                nodi.append((riga0,riga1))\n",
    "                i = i+1\n",
    "            \n",
    "            if not(riga2,riga3) in chiavi.keys():\n",
    "                chiavi[(riga2,riga3)] = i\n",
    "                nodi.append((riga2,riga3))\n",
    "                i = i+1\n",
    "            archi.append((chiavi[(riga0,riga1)],(chiavi[(riga2,riga3)])))\n",
    "        pavimento = T(2)(450)(CUBOID([850,400]))\n",
    "        corpoVilla = MULTEXTRUDE(OFFSET([20, 20])(STRUCT(MKPOLS([nodi,archi]))))(600)\n",
    "    return TEXTURE(\"intonaco.jpg\")(STRUCT([pavimento,corpoVilla]))"
   ]
  },
  {
   "cell_type": "code",
   "execution_count": 10,
   "metadata": {
    "collapsed": true
   },
   "outputs": [],
   "source": [
    "def tettoTriangolare1(depth,width):\n",
    "    return TEXTURE(\"tetto.jpg\")(S([1,2,3])([22,28.34,30])((ROTATE([1, 2])(PI)(ROTATE([2,3])(PI/2)(\n",
    "        MULTEXTRUDE(MKPOL([[[0, 0],[width/2,width/4],[width,0]],[[1,2,3]],None]))(depth))))))"
   ]
  },
  {
   "cell_type": "code",
   "execution_count": 11,
   "metadata": {
    "collapsed": true
   },
   "outputs": [],
   "source": [
    "def sopra():\n",
    "    return STRUCT([tettoTriangolare1(10,22)])\n"
   ]
  },
  {
   "cell_type": "code",
   "execution_count": 315,
   "metadata": {
    "collapsed": true
   },
   "outputs": [],
   "source": [
    "def comignoli():\n",
    "    \n",
    "    base = TEXTURE(\"intonaco.jpg\")(T([1,2])([2.5,2.5])(CUBOID([10,10,20])))\n",
    "    \n",
    "    tettino = TEXTURE(\"intonaco.jpg\")(T(3)(20)(CUBOID([15,15,2])))\n",
    "    \n",
    "    rialzo = TEXTURE(\"intonaco.jpg\")(CUBOID([2,1.5,2]))\n",
    "    \n",
    "    rialziDestra = TEXTURE(\"intonaco.jpg\")(\n",
    "        STRUCT([T([1,2,3])([1,1,22])(rialzo),T([1,2,3])([1,6.75,22])(rialzo),T([1,2,3])([1,12.5,22])(rialzo)]))\n",
    "    \n",
    "    rialziSinistra = TEXTURE(\"intonaco.jpg\")(\n",
    "        STRUCT([T([1,2,3])([12,1,22])(rialzo),T([1,2,3])([12,6.75,22])(rialzo),T([1,2,3])([12,12,22])(rialzo)]))\n",
    "    \n",
    "    tetto = TEXTURE(\"intonaco.jpg\")(T(3)(24)(CUBOID([15,15,1])))\n",
    "    \n",
    "    comignolo = S([1,2,3])([4,4,4])(STRUCT([base,tettino,rialziDestra,rialziSinistra,tettino,tetto]))\n",
    "    \n",
    "    return STRUCT([TEXTURE(\"intonaco.jpg\")(comignolo)])"
   ]
  },
  {
   "cell_type": "code",
   "execution_count": 316,
   "metadata": {},
   "outputs": [
    {
     "data": {
      "text/plain": [
       "<pyplasm.xgepy.Hpc; proxy of <Swig Object of type 'std::shared_ptr< Hpc > *' at 0x181837a810> >"
      ]
     },
     "execution_count": 316,
     "metadata": {},
     "output_type": "execute_result"
    }
   ],
   "source": [
    "VIEW(STRUCT([TOP([perimetro(),TOP([TEXTURE(\"tetto.jpg\")(CUBOID([850,400])),\n",
    "                                   LEFT([comignoli(),RIGHT([comignoli(),STRUCT([tettoTriangolare1(10,22)])])])])])]))"
   ]
  },
  {
   "cell_type": "code",
   "execution_count": 317,
   "metadata": {},
   "outputs": [],
   "source": [
    "def SEMISPHERE (radius):\n",
    "        def GSPHERE0 (subds):\n",
    "            N , M = subds\n",
    "            domain = Hpc(Grid([N*[PI/N],M*[PI/M]]))\n",
    "            domain = MAT([[1,0,0,0],[-PI/2,1,0,0],[-PI,0,1,0],[0,0,0,1]])(domain)\n",
    "            fx  = lambda p: radius * math.cos(p[0]) * math.sin  (p[1])\n",
    "            fy  = lambda p: radius * math.cos(p[0]) * math.cos (p[1])\n",
    "            fz  = lambda p: radius * math.sin(p[0])\n",
    "            ret = GMAP([fx, fy, fz])(domain)\n",
    "            return ret\n",
    "        return GSPHERE0\n",
    "def facciata():\n",
    "        cilindretto=(CUBOID([20,30,120]))\n",
    "        sferetta =R([1,3])(-PI/2)(SEMISPHERE(24)([500,320]))\n",
    "        insieme = TOP([cilindretto,sferetta])\n",
    "        return (T([1,3,2])([-10,450,459])(STRUCT([insieme, T(1)(3)(insieme), T(1)(9)(insieme)])))\n",
    "def fronte():\n",
    "    quadrato =TOP([TEXTURE(\"marrone.jpg\")(T([1,3,2])([130,100,450])(CUBOID([50,30,150]))),tettoTriangolare1(2,2.4)])\n",
    "    return STRUCT([quadrato,T([1])([100])(quadrato),T([1])([600])(quadrato),T([1])([700])(quadrato)])\n",
    "def columna(dm,h,h_base):\n",
    "    \n",
    "    cylndr = COMP([JOIN,TRUNCONE([dm/2,0.8*(dm/2),h])])(24)\n",
    "    \n",
    "    torus_bot = COMP([JOIN,TORUS([dm/12,dm/2])])([8,24])\n",
    "    \n",
    "    torus_top = COMP([JOIN,TORUS([0.8*(dm/12),0.8*(dm/2)])])([8,27])\n",
    "    \n",
    "    base = COMP([T([1,2])([7*(dm/-12),7*(dm/-23)]),CUBOID])([7*(dm/6),7*(dm/6),h_base])\n",
    "    \n",
    "    base_top = COMP([T([1,2])([7*(dm/-12),7*(dm/-12)]),CUBOID])([7*(dm/6),7*(dm/6),dm/6])\n",
    "    \n",
    "    capital = SUM([COMP([JOIN,TRUNCONE([0.8*dm/2, 1.2*dm/2,h/8])])(4),COMP([R([1,2])(PI/4),JOIN,TRUNCONE([0.8*dm/2,1.2*dm/2,\n",
    "                                                                                                         h/8])])(4)]) \n",
    "    return (TOP([TOP([TOP([TOP([TOP([base, torus_bot]), cylndr]), torus_top]), capital]), base_top]))\n",
    "def colonnato():\n",
    "    c=STRUCT([columna(30,350,30),T([1])([50])(columna(30,350,30)),T([1])([150])(columna(30,350,30)),T([1])([200])(columna(30,350,30))])\n",
    "    return c\n",
    "def piramide(depth,width,height):\n",
    "    \n",
    "    _width = float(width)\n",
    "    \n",
    "    _scale = float(depth)/_width\n",
    "    \n",
    "    _height = float(height)\n",
    "    \n",
    "    return SCALE(2)(_scale)(ROTATE([1,2])(PI/4)(CONE([_width*(1/SQRT(2)),_height])(4)))\n",
    "\n",
    "def scala():\n",
    "    \n",
    "    corrimanoDestro = TEXTURE(\"intonaco.jpg\")(T([1,2,3])([330,1070,127.5])(R([2,3])(-PI)(DIFFERENCE([CUBOID([20,150,130]),\n",
    "                                                                             piramide(400,10000,100)]))))\n",
    "    \n",
    "    corrimanoSinistro = TEXTURE(\"intonaco.jpg\")(T([1,2,3])([500,1070,127.5])(R([2,3])(-PI)(DIFFERENCE([CUBOID([20,150,130]),\n",
    "                                                                             piramide(400,10000,100)]))))\n",
    "    return STRUCT([T([1,2,3])([350,1070,102])(R([2,3])(-PI)(TEXTURE(\"marrone.jpg\")(DIFFERENCE([CUBOID([160,150,103]),\n",
    "                                                                        piramide(300,70000,100)])))),corrimanoDestro,corrimanoSinistro])\n",
    "def partesuperiore():\n",
    "    return STRUCT([TOP([TEXTURE(\"tetto.jpg\")(CUBOID([850,400])),LEFT([comignoli(),RIGHT([comignoli(),STRUCT([tettoTriangolare1(10,22)])])])])]) \n",
    "                                                                "
   ]
  },
  {
   "cell_type": "code",
   "execution_count": 602,
   "metadata": {},
   "outputs": [],
   "source": [
    "\n",
    "def elementifacciata():\n",
    "    return STRUCT([T([1,3])([-65,40])(fronte()), T([1,2,3])([300,490,0])(TOP([T(1)(10)(colonnato()),TEXTURE(\"intonaco.jpg\")(CUBOID([550,5,140]))]))\n",
    ",T([2,3])([1200,100])(R([2,3])(PI)(scala()))])"
   ]
  },
  {
   "cell_type": "code",
   "execution_count": 603,
   "metadata": {},
   "outputs": [],
   "source": [
    "def paretianteriori():\n",
    "    pavimento =TEXTURE(\"intonaco.jpg\")(CUBOID([850,200]))\n",
    "    parete = TEXTURE(\"intonaco.jpg\")(CUBOID([8,200,600]))\n",
    "    return STRUCT([TOP([STRUCT([T(2)(-10)(TEXTURE(\"intonaco.jpg\")(CUBOID([300,10,600]))),T([2,1])([-10,600])(TEXTURE(\"intonaco.jpg\")(CUBOID([270,10,600]))),RIGHT([parete,LEFT([parete,pavimento])])]),TEXTURE(\"tetto.jpg\")(CUBOID([860,250]))])])\n",
    "    "
   ]
  },
  {
   "cell_type": "code",
   "execution_count": 604,
   "metadata": {
    "collapsed": true
   },
   "outputs": [],
   "source": [
    "def porta():\n",
    "    quadrato =TOP([TEXTURE(\"marrone.jpg\")(T([1,3,2])([330,0,450])(CUBOID([150,30,300]))),tettoTriangolare1(7,7.4)])\n",
    "    return STRUCT([T([1])([50])(quadrato)])"
   ]
  },
  {
   "cell_type": "code",
   "execution_count": 605,
   "metadata": {},
   "outputs": [],
   "source": [
    "def porticato():\n",
    "    pavimento =TEXTURE(\"intonaco.jpg\")(CUBOID([850,550]))\n",
    "    parete = TEXTURE(\"intonaco.jpg\")(CUBOID([8,200,100]))\n",
    "    return STRUCT([T(2)(-10)(TEXTURE(\"intonaco.jpg\")(CUBOID([350,10,100]))),T([2,1])([-10,520])(TEXTURE(\"intonaco.jpg\")(CUBOID([350,10,100]))),RIGHT([parete,LEFT([parete,pavimento])])])"
   ]
  },
  {
   "cell_type": "code",
   "execution_count": 606,
   "metadata": {
    "collapsed": true
   },
   "outputs": [],
   "source": [
    "def partesuperiore():\n",
    "    return (T([2,3])([0,0])(STRUCT([TOP([perimetro(),T(2)(600)(TOP([TEXTURE(\"tetto.jpg\")(CUBOID([860,500])),\n",
    "                                   LEFT([comignoli(),RIGHT([comignoli(),STRUCT([tettoTriangolare1(10,22)])])])]))])])))"
   ]
  },
  {
   "cell_type": "code",
   "execution_count": null,
   "metadata": {
    "collapsed": true
   },
   "outputs": [],
   "source": [
    "def prato():\n",
    "    \n",
    "    prato = TEXTURE(\"prato.jpg\")(S([1,2])([2,2])(CUBOID([1600,1400])))\n",
    "\n",
    "    return STRUCT([prato])"
   ]
  },
  {
   "cell_type": "code",
   "execution_count": null,
   "metadata": {},
   "outputs": [
    {
     "name": "stdout",
     "output_type": "stream",
     "text": [
      "Child 3\n",
      "Child 3\n",
      "Child 3\n",
      "Child 3\n",
      "Child 3\n",
      "Child 3\n",
      "Child 3\n",
      "Child 3\n"
     ]
    }
   ],
   "source": [
    "VIEW(STRUCT([T(2)(250)(paretianteriori()),partesuperiore(),T(2)(-250)(elementifacciata()),T(2)(50)(porticato()),porta()]),prato())"
   ]
  },
  {
   "cell_type": "code",
   "execution_count": null,
   "metadata": {
    "collapsed": true
   },
   "outputs": [],
   "source": []
  },
  {
   "cell_type": "code",
   "execution_count": null,
   "metadata": {
    "collapsed": true
   },
   "outputs": [],
   "source": []
  }
 ],
 "metadata": {
  "kernelspec": {
   "display_name": "Python 2",
   "language": "python",
   "name": "python2"
  },
  "language_info": {
   "codemirror_mode": {
    "name": "ipython",
    "version": 2
   },
   "file_extension": ".py",
   "mimetype": "text/x-python",
   "name": "python",
   "nbconvert_exporter": "python",
   "pygments_lexer": "ipython2",
   "version": "2.7.13"
  }
 },
 "nbformat": 4,
 "nbformat_minor": 2
}
