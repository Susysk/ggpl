{
 "cells": [
  {
   "cell_type": "markdown",
   "metadata": {},
   "source": [
    "Modello geometrico di S. Stefano Rotondo al Celio  \n",
    "============================"
   ]
  },
  {
   "cell_type": "code",
   "execution_count": 3,
   "metadata": {},
   "outputs": [],
   "source": [
    "from pyplasm import *\n",
    "from math import *\n",
    "r0 = 24; \n",
    "r2 = 48; \n",
    "r3 = 72;\n",
    "r4 = 88;\n",
    "wsteps = 10;\n",
    "nsteps = 10;\n",
    "wstep = wsteps/nsteps;\n",
    "hstep = 1/3;\n",
    "hw4 = 29; \n",
    "hbasament = hstep*nsteps;"
   ]
  },
  {
   "cell_type": "code",
   "execution_count": null,
   "metadata": {
    "collapsed": true
   },
   "outputs": [],
   "source": [
    "DEF Column (w,h::IsRealPos) = basis TOP trunk TOP capitel WHERE basis = CUBOID:<w,w,2*w/3>, trunk = CYLINDER:<w/2*0.85, h - w>:8, capitel = CUBOID:<w,w,w/3> END;\n",
    "\n",
    "DEF hCol = 12 ;\n",
    "DEF arcAngle = 2*PI/50.4;\n",
    "DEF wallAngle = -3.2*arcAngle/4;\n",
    "\n",
    "DEF RotCross = 3.2*arcAngle/4 + 2.5*arcAngle;\n",
    "\n",
    "DEF MyColumn = (MKPOL ~ UKPOL ~ T:2:((r2 - 0.75)) ~ Column):<1.5,hCol>;\n",
    "\n",
    "DEF The4cols = (R:<1,2>:(arcAngle*0.4/3.2) ~ MKPOL ~ UKPOL ~ STRUCT ~ ##:4):< R:<1,2>:(-:arcAngle), MyColumn >;\n",
    "\n",
    "DEF The5cols = (R:<1,2>: (arcAngle*0.4/ 3.2) ~ MKPOL ~ UKPOL ~ STRUCT ~ ##:5):< R:<1,2>:(-:arcAngle), MyColumn >;\n",
    "\n",
    "DEF TheBotWal = (cylMap ~ MKPOL ~ UKPOL ~ T:2:(r2 - 0.75) ~ CUBOID): < 3.2*arcAngle/4, 1.5, hCol >;\n",
    "\n",
    "DEF TheSecCols = STRUCT:< R:<1,2>: RotCross, TheBotWal, R:<1,2>:wallAngle, The4cols, R:<1,2>:(-5*arcAngle), TheBotWal, R:<1,2>:wallAngle, The5cols>;\n",
    "\n",
    "DEF TheMedColumns = (STRUCT ~ ##:4):<TheSecCols, R:<1,2>:(PI/-2)>;"
   ]
  },
  {
   "cell_type": "code",
   "execution_count": 50,
   "metadata": {},
   "outputs": [
    {
     "ename": "Exception",
     "evalue": "Cannot find geometry in STRUCT, found only transformations",
     "output_type": "error",
     "traceback": [
      "\u001b[0;31m---------------------------------------------------------------------------\u001b[0m",
      "\u001b[0;31mException\u001b[0m                                 Traceback (most recent call last)",
      "\u001b[0;32m<ipython-input-50-7d59897b9b35>\u001b[0m in \u001b[0;36m<module>\u001b[0;34m()\u001b[0m\n\u001b[1;32m      9\u001b[0m \u001b[0mRotCross\u001b[0m \u001b[0;34m=\u001b[0m \u001b[0;36m3.2\u001b[0m\u001b[0;34m*\u001b[0m\u001b[0marcAngle\u001b[0m\u001b[0;34m/\u001b[0m\u001b[0;36m4\u001b[0m \u001b[0;34m+\u001b[0m \u001b[0;36m2.5\u001b[0m\u001b[0;34m*\u001b[0m\u001b[0marcAngle\u001b[0m\u001b[0;34m;\u001b[0m\u001b[0;34m\u001b[0m\u001b[0m\n\u001b[1;32m     10\u001b[0m \u001b[0mMyColumn\u001b[0m \u001b[0;34m=\u001b[0m \u001b[0mMKPOL\u001b[0m\u001b[0;34m(\u001b[0m\u001b[0mUKPOL\u001b[0m\u001b[0;34m(\u001b[0m\u001b[0mT\u001b[0m\u001b[0;34m(\u001b[0m\u001b[0;36m2\u001b[0m\u001b[0;34m)\u001b[0m\u001b[0;34m(\u001b[0m\u001b[0mr2\u001b[0m\u001b[0;34m-\u001b[0m\u001b[0;36m0.75\u001b[0m\u001b[0;34m)\u001b[0m\u001b[0;34m(\u001b[0m\u001b[0mcolumn\u001b[0m\u001b[0;34m(\u001b[0m\u001b[0;36m1.5\u001b[0m\u001b[0;34m,\u001b[0m\u001b[0mhCol\u001b[0m\u001b[0;34m)\u001b[0m\u001b[0;34m)\u001b[0m\u001b[0;34m)\u001b[0m\u001b[0;34m)\u001b[0m\u001b[0;34m;\u001b[0m\u001b[0;34m\u001b[0m\u001b[0m\n\u001b[0;32m---> 11\u001b[0;31m \u001b[0mthe4Cols\u001b[0m \u001b[0;34m=\u001b[0m \u001b[0mSTRUCT\u001b[0m\u001b[0;34m(\u001b[0m\u001b[0;34m[\u001b[0m \u001b[0mCOMP\u001b[0m\u001b[0;34m(\u001b[0m\u001b[0;34m[\u001b[0m\u001b[0mR\u001b[0m\u001b[0;34m(\u001b[0m\u001b[0;34m[\u001b[0m\u001b[0;36m1\u001b[0m\u001b[0;34m,\u001b[0m\u001b[0;36m2\u001b[0m\u001b[0;34m]\u001b[0m\u001b[0;34m)\u001b[0m\u001b[0;34m(\u001b[0m\u001b[0marcAngle\u001b[0m\u001b[0;34m*\u001b[0m\u001b[0;36m0.4\u001b[0m\u001b[0;34m/\u001b[0m\u001b[0;36m3.2\u001b[0m\u001b[0;34m)\u001b[0m\u001b[0;34m,\u001b[0m \u001b[0mCOMP\u001b[0m\u001b[0;34m(\u001b[0m\u001b[0;34m[\u001b[0m\u001b[0mMKPOL\u001b[0m\u001b[0;34m,\u001b[0m \u001b[0mCOMP\u001b[0m\u001b[0;34m(\u001b[0m\u001b[0;34m[\u001b[0m\u001b[0mUKPOL\u001b[0m\u001b[0;34m,\u001b[0m \u001b[0mCOMP\u001b[0m\u001b[0;34m(\u001b[0m\u001b[0;34m[\u001b[0m\u001b[0mSTRUCT\u001b[0m\u001b[0;34m,\u001b[0m \u001b[0mNN\u001b[0m\u001b[0;34m(\u001b[0m\u001b[0;36m4\u001b[0m\u001b[0;34m)\u001b[0m\u001b[0;34m(\u001b[0m\u001b[0;34m[\u001b[0m \u001b[0mR\u001b[0m\u001b[0;34m(\u001b[0m\u001b[0;34m[\u001b[0m\u001b[0;36m1\u001b[0m\u001b[0;34m,\u001b[0m\u001b[0;36m2\u001b[0m\u001b[0;34m]\u001b[0m\u001b[0;34m)\u001b[0m\u001b[0;34m(\u001b[0m\u001b[0;34m-\u001b[0m\u001b[0marcAngle\u001b[0m\u001b[0;34m)\u001b[0m\u001b[0;34m(\u001b[0m\u001b[0mMyColumn\u001b[0m\u001b[0;34m)\u001b[0m \u001b[0;34m]\u001b[0m\u001b[0;34m)\u001b[0m\u001b[0;34m]\u001b[0m\u001b[0;34m)\u001b[0m\u001b[0;34m]\u001b[0m\u001b[0;34m)\u001b[0m\u001b[0;34m]\u001b[0m\u001b[0;34m)\u001b[0m\u001b[0;34m]\u001b[0m\u001b[0;34m)\u001b[0m \u001b[0;34m]\u001b[0m\u001b[0;34m)\u001b[0m\u001b[0;34m\u001b[0m\u001b[0m\n\u001b[0m\u001b[1;32m     12\u001b[0m \u001b[0mthe5Cols\u001b[0m \u001b[0;34m=\u001b[0m \u001b[0mCOMP\u001b[0m\u001b[0;34m(\u001b[0m\u001b[0;34m[\u001b[0m\u001b[0mR\u001b[0m\u001b[0;34m(\u001b[0m\u001b[0;34m[\u001b[0m\u001b[0;36m1\u001b[0m\u001b[0;34m,\u001b[0m\u001b[0;36m2\u001b[0m\u001b[0;34m]\u001b[0m\u001b[0;34m)\u001b[0m\u001b[0;34m(\u001b[0m\u001b[0marcAngle\u001b[0m\u001b[0;34m*\u001b[0m\u001b[0;36m0.4\u001b[0m\u001b[0;34m/\u001b[0m\u001b[0;36m3.2\u001b[0m\u001b[0;34m)\u001b[0m\u001b[0;34m,\u001b[0m \u001b[0mCOMP\u001b[0m\u001b[0;34m(\u001b[0m\u001b[0;34m[\u001b[0m\u001b[0mMKPOL\u001b[0m\u001b[0;34m,\u001b[0m \u001b[0mCOMP\u001b[0m\u001b[0;34m(\u001b[0m\u001b[0;34m[\u001b[0m\u001b[0mUKPOL\u001b[0m\u001b[0;34m,\u001b[0m \u001b[0mCOMP\u001b[0m\u001b[0;34m(\u001b[0m\u001b[0;34m[\u001b[0m\u001b[0mSTRUCT\u001b[0m\u001b[0;34m,\u001b[0m \u001b[0mNN\u001b[0m\u001b[0;34m(\u001b[0m\u001b[0;36m5\u001b[0m\u001b[0;34m)\u001b[0m\u001b[0;34m(\u001b[0m\u001b[0;34m[\u001b[0m \u001b[0mR\u001b[0m\u001b[0;34m(\u001b[0m\u001b[0;34m[\u001b[0m\u001b[0;36m1\u001b[0m\u001b[0;34m,\u001b[0m\u001b[0;36m2\u001b[0m\u001b[0;34m]\u001b[0m\u001b[0;34m)\u001b[0m\u001b[0;34m(\u001b[0m\u001b[0;34m-\u001b[0m\u001b[0marcAngle\u001b[0m\u001b[0;34m)\u001b[0m\u001b[0;34m(\u001b[0m\u001b[0mMyColumn\u001b[0m\u001b[0;34m)\u001b[0m \u001b[0;34m]\u001b[0m\u001b[0;34m)\u001b[0m\u001b[0;34m]\u001b[0m\u001b[0;34m)\u001b[0m\u001b[0;34m]\u001b[0m\u001b[0;34m)\u001b[0m\u001b[0;34m]\u001b[0m\u001b[0;34m)\u001b[0m\u001b[0;34m]\u001b[0m\u001b[0;34m)\u001b[0m\u001b[0;34m\u001b[0m\u001b[0m\n\u001b[1;32m     13\u001b[0m \u001b[0mtheBotWal\u001b[0m \u001b[0;34m=\u001b[0m \u001b[0mCOMP\u001b[0m\u001b[0;34m(\u001b[0m\u001b[0;34m[\u001b[0m\u001b[0mcylMap\u001b[0m\u001b[0;34m,\u001b[0m \u001b[0mCOMP\u001b[0m\u001b[0;34m(\u001b[0m\u001b[0;34m[\u001b[0m\u001b[0mMKPOL\u001b[0m\u001b[0;34m,\u001b[0m \u001b[0mCOMP\u001b[0m\u001b[0;34m(\u001b[0m\u001b[0;34m[\u001b[0m\u001b[0mUKPOL\u001b[0m\u001b[0;34m,\u001b[0m \u001b[0mCOMP\u001b[0m\u001b[0;34m(\u001b[0m\u001b[0;34m[\u001b[0m\u001b[0mT\u001b[0m\u001b[0;34m(\u001b[0m\u001b[0;36m2\u001b[0m\u001b[0;34m)\u001b[0m\u001b[0;34m(\u001b[0m\u001b[0mr2\u001b[0m\u001b[0;34m-\u001b[0m\u001b[0;36m0.75\u001b[0m\u001b[0;34m)\u001b[0m\u001b[0;34m(\u001b[0m\u001b[0mCUBOID\u001b[0m\u001b[0;34m(\u001b[0m\u001b[0;34m[\u001b[0m\u001b[0;36m3.2\u001b[0m\u001b[0;34m*\u001b[0m\u001b[0marcAngle\u001b[0m\u001b[0;34m/\u001b[0m\u001b[0;36m4\u001b[0m\u001b[0;34m,\u001b[0m \u001b[0;36m1.5\u001b[0m\u001b[0;34m,\u001b[0m \u001b[0mhCol\u001b[0m\u001b[0;34m]\u001b[0m\u001b[0;34m)\u001b[0m\u001b[0;34m)\u001b[0m\u001b[0;34m]\u001b[0m\u001b[0;34m)\u001b[0m\u001b[0;34m]\u001b[0m\u001b[0;34m)\u001b[0m\u001b[0;34m]\u001b[0m\u001b[0;34m)\u001b[0m\u001b[0;34m]\u001b[0m\u001b[0;34m)\u001b[0m\u001b[0;34m\u001b[0m\u001b[0m\n",
      "\u001b[0;32m/Users/susy/anaconda2/lib/python2.7/site-packages/pyplasm/fenvs.py\u001b[0m in \u001b[0;36mSTRUCT\u001b[0;34m(seq, nrec)\u001b[0m\n\u001b[1;32m   1191\u001b[0m \u001b[0;34m\u001b[0m\u001b[0m\n\u001b[1;32m   1192\u001b[0m         \u001b[0;32mif\u001b[0m \u001b[0mlen\u001b[0m\u001b[0;34m(\u001b[0m\u001b[0mpols\u001b[0m\u001b[0;34m)\u001b[0m\u001b[0;34m==\u001b[0m\u001b[0;36m0\u001b[0m\u001b[0;34m:\u001b[0m\u001b[0;34m\u001b[0m\u001b[0m\n\u001b[0;32m-> 1193\u001b[0;31m                 \u001b[0;32mraise\u001b[0m \u001b[0mException\u001b[0m\u001b[0;34m(\u001b[0m\u001b[0;34m\"Cannot find geometry in STRUCT, found only transformations\"\u001b[0m\u001b[0;34m)\u001b[0m\u001b[0;34m\u001b[0m\u001b[0m\n\u001b[0m\u001b[1;32m   1194\u001b[0m \u001b[0;34m\u001b[0m\u001b[0m\n\u001b[1;32m   1195\u001b[0m         \u001b[0;32mreturn\u001b[0m \u001b[0mPlasm\u001b[0m\u001b[0;34m.\u001b[0m\u001b[0mStruct\u001b[0m\u001b[0;34m(\u001b[0m\u001b[0mpols\u001b[0m\u001b[0;34m)\u001b[0m\u001b[0;34m\u001b[0m\u001b[0m\n",
      "\u001b[0;31mException\u001b[0m: Cannot find geometry in STRUCT, found only transformations"
     ]
    }
   ],
   "source": [
    "def column(w,h):\n",
    "    basis= CUBOID([w,w,2*w/3])\n",
    "    trunk= CYLINDER([w/2*0.85,h-w])(8)\n",
    "    capitel=CUBOID([w,w,w/3])\n",
    "    return TOP([basis,TOP([trunk,capitel])])\n",
    "hCol = 12;\n",
    "arcAngle = 2*PI/50.4;\n",
    "wallAngle = -3.2*arcAngle/4;\n",
    "RotCross = 3.2*arcAngle/4 + 2.5*arcAngle;\n",
    "MyColumn = MKPOL(UKPOL(T(2)(r2-0.75)(column(1.5,hCol))));\n",
    "#the4Cols = COMP([R([1,2])(arcAngle*0.4/3.2), COMP([MKPOL, COMP([UKPOL, COMP([STRUCT, NN(4)([R([1,2])(-arcAngle)(MyColumn)])])])])])\n",
    "the4cols = R([1,2])(arcAngle*0.4/3.2)(MKPOL(UKPOL(STRUCT([NN(4)R([1,2])(-arcAngle)(MyColumn)]))))\n",
    "the5Cols = COMP([R([1,2])(arcAngle*0.4/3.2), COMP([MKPOL, COMP([UKPOL, COMP([STRUCT, NN(5)([ R([1,2])(-arcAngle)(MyColumn) ])])])])])\n",
    "theBotWal = COMP([cylMap, COMP([MKPOL, COMP([UKPOL, COMP([T(2)(r2-0.75)(CUBOID([3.2*arcAngle/4, 1.5, hCol]))])])])])\n",
    "VIEW(the4Cols)"
   ]
  },
  {
   "cell_type": "code",
   "execution_count": 47,
   "metadata": {},
   "outputs": [
    {
     "ename": "TypeError",
     "evalue": "in method 'Plasm_rotate', argument 1 of type 'std::shared_ptr< Hpc >'",
     "output_type": "error",
     "traceback": [
      "\u001b[0;31m---------------------------------------------------------------------------\u001b[0m",
      "\u001b[0;31mTypeError\u001b[0m                                 Traceback (most recent call last)",
      "\u001b[0;32m<ipython-input-47-1bfd6cfe3119>\u001b[0m in \u001b[0;36m<module>\u001b[0;34m()\u001b[0m\n\u001b[1;32m      1\u001b[0m \u001b[0;31m# DEF TheSecCols = STRUCT:< R:<1,2>: RotCross, TheBotWal, R:<1,2>:wallAngle, The4cols, R:<1,2>:(-5*arcAngle), TheBotWal, R:<1,2>:wallAngle, The5cols>;\u001b[0m\u001b[0;34m\u001b[0m\u001b[0;34m\u001b[0m\u001b[0m\n\u001b[1;32m      2\u001b[0m \u001b[0;34m\u001b[0m\u001b[0m\n\u001b[0;32m----> 3\u001b[0;31m \u001b[0mtheSecCols\u001b[0m \u001b[0;34m=\u001b[0m \u001b[0mSTRUCT\u001b[0m\u001b[0;34m(\u001b[0m\u001b[0;34m[\u001b[0m \u001b[0mR\u001b[0m\u001b[0;34m(\u001b[0m\u001b[0;34m[\u001b[0m\u001b[0;36m1\u001b[0m\u001b[0;34m,\u001b[0m\u001b[0;36m2\u001b[0m\u001b[0;34m]\u001b[0m\u001b[0;34m)\u001b[0m\u001b[0;34m(\u001b[0m\u001b[0mRotCross\u001b[0m\u001b[0;34m)\u001b[0m\u001b[0;34m(\u001b[0m\u001b[0mtheBotWal\u001b[0m\u001b[0;34m)\u001b[0m\u001b[0;34m,\u001b[0m \u001b[0mR\u001b[0m\u001b[0;34m(\u001b[0m\u001b[0;34m[\u001b[0m\u001b[0;36m1\u001b[0m\u001b[0;34m,\u001b[0m\u001b[0;36m2\u001b[0m\u001b[0;34m]\u001b[0m\u001b[0;34m)\u001b[0m\u001b[0;34m(\u001b[0m\u001b[0mwallAngle\u001b[0m\u001b[0;34m)\u001b[0m\u001b[0;34m(\u001b[0m\u001b[0mthe4Cols\u001b[0m\u001b[0;34m)\u001b[0m\u001b[0;34m,\u001b[0m \u001b[0mR\u001b[0m\u001b[0;34m(\u001b[0m\u001b[0;34m[\u001b[0m\u001b[0;36m1\u001b[0m\u001b[0;34m,\u001b[0m\u001b[0;36m2\u001b[0m\u001b[0;34m]\u001b[0m\u001b[0;34m)\u001b[0m\u001b[0;34m(\u001b[0m\u001b[0;34m-\u001b[0m\u001b[0;36m5\u001b[0m\u001b[0;34m*\u001b[0m\u001b[0marcAngle\u001b[0m\u001b[0;34m)\u001b[0m\u001b[0;34m(\u001b[0m\u001b[0mtheBotWal\u001b[0m\u001b[0;34m)\u001b[0m\u001b[0;34m,\u001b[0m \u001b[0mR\u001b[0m\u001b[0;34m(\u001b[0m\u001b[0;34m[\u001b[0m\u001b[0;36m1\u001b[0m\u001b[0;34m,\u001b[0m\u001b[0;36m2\u001b[0m\u001b[0;34m]\u001b[0m\u001b[0;34m)\u001b[0m\u001b[0;34m(\u001b[0m\u001b[0mwallAngle\u001b[0m\u001b[0;34m)\u001b[0m\u001b[0;34m(\u001b[0m\u001b[0mthe5Cols\u001b[0m\u001b[0;34m)\u001b[0m \u001b[0;34m]\u001b[0m\u001b[0;34m)\u001b[0m\u001b[0;34m\u001b[0m\u001b[0m\n\u001b[0m",
      "\u001b[0;32m/Users/susy/anaconda2/lib/python2.7/site-packages/pyplasm/fenvs.py\u001b[0m in \u001b[0;36mROTATE2\u001b[0;34m(pol)\u001b[0m\n\u001b[1;32m   1110\u001b[0m                 \u001b[0;32mdef\u001b[0m \u001b[0mROTATE2\u001b[0m \u001b[0;34m(\u001b[0m\u001b[0mpol\u001b[0m\u001b[0;34m)\u001b[0m\u001b[0;34m:\u001b[0m\u001b[0;34m\u001b[0m\u001b[0m\n\u001b[1;32m   1111\u001b[0m                         \u001b[0mdim\u001b[0m \u001b[0;34m=\u001b[0m \u001b[0mmax\u001b[0m\u001b[0;34m(\u001b[0m\u001b[0mplane_indexes\u001b[0m\u001b[0;34m)\u001b[0m\u001b[0;34m\u001b[0m\u001b[0m\n\u001b[0;32m-> 1112\u001b[0;31m                         \u001b[0;32mreturn\u001b[0m \u001b[0mPlasm\u001b[0m\u001b[0;34m.\u001b[0m\u001b[0mrotate\u001b[0m\u001b[0;34m(\u001b[0m\u001b[0mpol\u001b[0m\u001b[0;34m,\u001b[0m \u001b[0mdim\u001b[0m\u001b[0;34m,\u001b[0m \u001b[0mplane_indexes\u001b[0m\u001b[0;34m[\u001b[0m\u001b[0;36m0\u001b[0m\u001b[0;34m]\u001b[0m \u001b[0;34m,\u001b[0m \u001b[0mplane_indexes\u001b[0m\u001b[0;34m[\u001b[0m\u001b[0;36m1\u001b[0m\u001b[0;34m]\u001b[0m\u001b[0;34m,\u001b[0m \u001b[0mangle\u001b[0m\u001b[0;34m)\u001b[0m\u001b[0;34m\u001b[0m\u001b[0m\n\u001b[0m\u001b[1;32m   1113\u001b[0m                 \u001b[0;32mreturn\u001b[0m \u001b[0mROTATE2\u001b[0m\u001b[0;34m\u001b[0m\u001b[0m\n\u001b[1;32m   1114\u001b[0m         \u001b[0;32mreturn\u001b[0m \u001b[0mROTATE1\u001b[0m\u001b[0;34m\u001b[0m\u001b[0m\n",
      "\u001b[0;31mTypeError\u001b[0m: in method 'Plasm_rotate', argument 1 of type 'std::shared_ptr< Hpc >'"
     ]
    }
   ],
   "source": [
    "# DEF TheSecCols = STRUCT:< R:<1,2>: RotCross, TheBotWal, R:<1,2>:wallAngle, The4cols, R:<1,2>:(-5*arcAngle), TheBotWal, R:<1,2>:wallAngle, The5cols>;\n",
    "\n",
    "theSecCols = STRUCT([ R([1,2])(RotCross)(theBotWal), R([1,2])(wallAngle)(the4Cols), R([1,2])(-5*arcAngle)(theBotWal), R([1,2])(wallAngle)(the5Cols) ])"
   ]
  }
 ],
 "metadata": {
  "kernelspec": {
   "display_name": "Python 2",
   "language": "python",
   "name": "python2"
  },
  "language_info": {
   "codemirror_mode": {
    "name": "ipython",
    "version": 2
   },
   "file_extension": ".py",
   "mimetype": "text/x-python",
   "name": "python",
   "nbconvert_exporter": "python",
   "pygments_lexer": "ipython2",
   "version": "2.7.13"
  }
 },
 "nbformat": 4,
 "nbformat_minor": 2
}
