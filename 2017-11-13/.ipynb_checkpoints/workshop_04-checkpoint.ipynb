{
 "cells": [
  {
   "cell_type": "markdown",
   "metadata": {},
   "source": [
    "COLUMNA\n",
    "========"
   ]
  },
  {
   "cell_type": "code",
   "execution_count": 3,
   "metadata": {},
   "outputs": [
    {
     "name": "stdout",
     "output_type": "stream",
     "text": [
      "Evaluating fenvs.py..\n",
      "...fenvs.py imported in 0.008895 seconds\n"
     ]
    }
   ],
   "source": [
    "from pyplasm import *"
   ]
  },
  {
   "cell_type": "code",
   "execution_count": null,
   "metadata": {
    "collapsed": true
   },
   "outputs": [],
   "source": [
    "DEF columna (dm, h , h b a s e : : isReal) = b a s e TOP\n",
    "t o r u s b o t TOP c y l n d r TOP t o r u s t o p TOP c a p i t a l\n",
    "TOP b a s e t o p\n",
    "WHERE\n",
    "c y l n d r = (JOIN∼TRUNCONE:<dm/2 , 0 . 8*dm/2 , h>) : 2 4 ,\n",
    "t o r u s b o t = (JOIN∼TORUS:<dm/1 2 ,d/2>):<8 ,24>,\n",
    "t o r u s t o p = (JOIN∼TORUS: <0.8*(dm/1 2 ) , 0 . 8 *(dm/\n",
    "2 ) >):<8 ,24>,\n",
    "b a s e = (T:<1,2>:<7*dm/-1 2 , 7*dm/-12> ∼ CUBOID)\n",
    ":<7*dm/6 , 7*dm/6 , h b a s e >,\n",
    "b a s e t o p = (T:<1,2>:<7*dm/-1 2 , 7*dm/-12> ∼\n",
    "CUBOID) :<7*dm/6 , 7*dm/6 , dm/6>,\n",
    "c a p i t a l = (JOIN ∼ TRUNCONE:< 0 . 8*dm/2 , 1 . 2*dm/\n",
    "2 , h/8>) : 4 + (R: <1 ,2 >: (PI/4 ) ∼ JOIN ∼\n",
    "TRUNCONE:< 0 . 8*dm/2 , 1 . 2*dm/2 , h/8>) : 4\n",
    "END ;"
   ]
  },
  {
   "cell_type": "code",
   "execution_count": 8,
   "metadata": {
    "collapsed": true
   },
   "outputs": [],
   "source": [
    "def columna(dm,h,h_base):\n",
    "    cylndr = COMP([JOIN,TRUNCONE([dm/2,0.8*(dm/2),h])])(24)\n",
    "    torus_bot = COMP([JOIN,TORUS([dm/12,dm/2])])([8,24])\n",
    "    torus_top = COMP([JOIN,TORUS([0.8*(dm/12),0.8*(dm/2)])])([8,27])\n",
    "    base = COMP([T([1,2])([7*(dm/-12),7*(dm/-23)]),CUBOID])([7*(dm/6),7*(dm/6),h_base])\n",
    "    base_top = COMP([T([1,2])([7*(dm/-12),7*(dm/-12)]),CUBOID])([7*(dm/6),7*(dm/6),dm/6])\n",
    "    capital = SUM([COMP([JOIN,TRUNCONE([0.8*dm/2, 1.2*dm/2,h/8])])(4),COMP([R([1,2])(PI/4),JOIN,TRUNCONE([0.8*dm/2,1.2*dm/2,\n",
    "                                                                                                    h/8])])(4)])\n",
    "    return TOP([TOP([TOP([TOP([TOP([base, torus_bot]), cylndr]), torus_top]), capital]), base_top])"
   ]
  },
  {
   "cell_type": "code",
   "execution_count": null,
   "metadata": {},
   "outputs": [
    {
     "name": "stdout",
     "output_type": "stream",
     "text": [
      "Child 3\n",
      "Child 3\n"
     ]
    }
   ],
   "source": [
    "VIEW(columna(6,15,1))"
   ]
  },
  {
   "cell_type": "markdown",
   "metadata": {},
   "source": [
    "![Column](columna.png)"
   ]
  }
 ],
 "metadata": {
  "kernelspec": {
   "display_name": "Python 2",
   "language": "python",
   "name": "python2"
  },
  "language_info": {
   "codemirror_mode": {
    "name": "ipython",
    "version": 2
   },
   "file_extension": ".py",
   "mimetype": "text/x-python",
   "name": "python",
   "nbconvert_exporter": "python",
   "pygments_lexer": "ipython2",
   "version": "2.7.13"
  }
 },
 "nbformat": 4,
 "nbformat_minor": 2
}
